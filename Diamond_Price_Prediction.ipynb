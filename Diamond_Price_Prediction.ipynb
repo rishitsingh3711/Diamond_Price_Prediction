{
 "cells": [
  {
   "cell_type": "code",
   "execution_count": 1,
   "id": "ae3faeeb",
   "metadata": {},
   "outputs": [],
   "source": [
    "import numpy as np\n",
    "import pandas as pd\n",
    "import seaborn as sns\n",
    "from matplotlib import pyplot as plt"
   ]
  },
  {
   "cell_type": "code",
   "execution_count": 2,
   "id": "5ad87eb8",
   "metadata": {},
   "outputs": [
    {
     "data": {
      "text/html": [
       "<div>\n",
       "<style scoped>\n",
       "    .dataframe tbody tr th:only-of-type {\n",
       "        vertical-align: middle;\n",
       "    }\n",
       "\n",
       "    .dataframe tbody tr th {\n",
       "        vertical-align: top;\n",
       "    }\n",
       "\n",
       "    .dataframe thead th {\n",
       "        text-align: right;\n",
       "    }\n",
       "</style>\n",
       "<table border=\"1\" class=\"dataframe\">\n",
       "  <thead>\n",
       "    <tr style=\"text-align: right;\">\n",
       "      <th></th>\n",
       "      <th>Unnamed: 0</th>\n",
       "      <th>carat</th>\n",
       "      <th>cut</th>\n",
       "      <th>color</th>\n",
       "      <th>clarity</th>\n",
       "      <th>depth</th>\n",
       "      <th>table</th>\n",
       "      <th>price</th>\n",
       "      <th>x</th>\n",
       "      <th>y</th>\n",
       "      <th>z</th>\n",
       "    </tr>\n",
       "  </thead>\n",
       "  <tbody>\n",
       "    <tr>\n",
       "      <th>0</th>\n",
       "      <td>1</td>\n",
       "      <td>0.23</td>\n",
       "      <td>Ideal</td>\n",
       "      <td>E</td>\n",
       "      <td>SI2</td>\n",
       "      <td>61.5</td>\n",
       "      <td>55.0</td>\n",
       "      <td>326</td>\n",
       "      <td>3.95</td>\n",
       "      <td>3.98</td>\n",
       "      <td>2.43</td>\n",
       "    </tr>\n",
       "    <tr>\n",
       "      <th>1</th>\n",
       "      <td>2</td>\n",
       "      <td>0.21</td>\n",
       "      <td>Premium</td>\n",
       "      <td>E</td>\n",
       "      <td>SI1</td>\n",
       "      <td>59.8</td>\n",
       "      <td>61.0</td>\n",
       "      <td>326</td>\n",
       "      <td>3.89</td>\n",
       "      <td>3.84</td>\n",
       "      <td>2.31</td>\n",
       "    </tr>\n",
       "    <tr>\n",
       "      <th>2</th>\n",
       "      <td>3</td>\n",
       "      <td>0.23</td>\n",
       "      <td>Good</td>\n",
       "      <td>E</td>\n",
       "      <td>VS1</td>\n",
       "      <td>56.9</td>\n",
       "      <td>65.0</td>\n",
       "      <td>327</td>\n",
       "      <td>4.05</td>\n",
       "      <td>4.07</td>\n",
       "      <td>2.31</td>\n",
       "    </tr>\n",
       "    <tr>\n",
       "      <th>3</th>\n",
       "      <td>4</td>\n",
       "      <td>0.29</td>\n",
       "      <td>Premium</td>\n",
       "      <td>I</td>\n",
       "      <td>VS2</td>\n",
       "      <td>62.4</td>\n",
       "      <td>58.0</td>\n",
       "      <td>334</td>\n",
       "      <td>4.20</td>\n",
       "      <td>4.23</td>\n",
       "      <td>2.63</td>\n",
       "    </tr>\n",
       "    <tr>\n",
       "      <th>4</th>\n",
       "      <td>5</td>\n",
       "      <td>0.31</td>\n",
       "      <td>Good</td>\n",
       "      <td>J</td>\n",
       "      <td>SI2</td>\n",
       "      <td>63.3</td>\n",
       "      <td>58.0</td>\n",
       "      <td>335</td>\n",
       "      <td>4.34</td>\n",
       "      <td>4.35</td>\n",
       "      <td>2.75</td>\n",
       "    </tr>\n",
       "    <tr>\n",
       "      <th>5</th>\n",
       "      <td>6</td>\n",
       "      <td>0.24</td>\n",
       "      <td>Very Good</td>\n",
       "      <td>J</td>\n",
       "      <td>VVS2</td>\n",
       "      <td>62.8</td>\n",
       "      <td>57.0</td>\n",
       "      <td>336</td>\n",
       "      <td>3.94</td>\n",
       "      <td>3.96</td>\n",
       "      <td>2.48</td>\n",
       "    </tr>\n",
       "    <tr>\n",
       "      <th>6</th>\n",
       "      <td>7</td>\n",
       "      <td>0.24</td>\n",
       "      <td>Very Good</td>\n",
       "      <td>I</td>\n",
       "      <td>VVS1</td>\n",
       "      <td>62.3</td>\n",
       "      <td>57.0</td>\n",
       "      <td>336</td>\n",
       "      <td>3.95</td>\n",
       "      <td>3.98</td>\n",
       "      <td>2.47</td>\n",
       "    </tr>\n",
       "    <tr>\n",
       "      <th>7</th>\n",
       "      <td>8</td>\n",
       "      <td>0.26</td>\n",
       "      <td>Very Good</td>\n",
       "      <td>H</td>\n",
       "      <td>SI1</td>\n",
       "      <td>61.9</td>\n",
       "      <td>55.0</td>\n",
       "      <td>337</td>\n",
       "      <td>4.07</td>\n",
       "      <td>4.11</td>\n",
       "      <td>2.53</td>\n",
       "    </tr>\n",
       "    <tr>\n",
       "      <th>8</th>\n",
       "      <td>9</td>\n",
       "      <td>0.22</td>\n",
       "      <td>Fair</td>\n",
       "      <td>E</td>\n",
       "      <td>VS2</td>\n",
       "      <td>65.1</td>\n",
       "      <td>61.0</td>\n",
       "      <td>337</td>\n",
       "      <td>3.87</td>\n",
       "      <td>3.78</td>\n",
       "      <td>2.49</td>\n",
       "    </tr>\n",
       "    <tr>\n",
       "      <th>9</th>\n",
       "      <td>10</td>\n",
       "      <td>0.23</td>\n",
       "      <td>Very Good</td>\n",
       "      <td>H</td>\n",
       "      <td>VS1</td>\n",
       "      <td>59.4</td>\n",
       "      <td>61.0</td>\n",
       "      <td>338</td>\n",
       "      <td>4.00</td>\n",
       "      <td>4.05</td>\n",
       "      <td>2.39</td>\n",
       "    </tr>\n",
       "  </tbody>\n",
       "</table>\n",
       "</div>"
      ],
      "text/plain": [
       "   Unnamed: 0  carat        cut color clarity  depth  table  price     x  \\\n",
       "0           1   0.23      Ideal     E     SI2   61.5   55.0    326  3.95   \n",
       "1           2   0.21    Premium     E     SI1   59.8   61.0    326  3.89   \n",
       "2           3   0.23       Good     E     VS1   56.9   65.0    327  4.05   \n",
       "3           4   0.29    Premium     I     VS2   62.4   58.0    334  4.20   \n",
       "4           5   0.31       Good     J     SI2   63.3   58.0    335  4.34   \n",
       "5           6   0.24  Very Good     J    VVS2   62.8   57.0    336  3.94   \n",
       "6           7   0.24  Very Good     I    VVS1   62.3   57.0    336  3.95   \n",
       "7           8   0.26  Very Good     H     SI1   61.9   55.0    337  4.07   \n",
       "8           9   0.22       Fair     E     VS2   65.1   61.0    337  3.87   \n",
       "9          10   0.23  Very Good     H     VS1   59.4   61.0    338  4.00   \n",
       "\n",
       "      y     z  \n",
       "0  3.98  2.43  \n",
       "1  3.84  2.31  \n",
       "2  4.07  2.31  \n",
       "3  4.23  2.63  \n",
       "4  4.35  2.75  \n",
       "5  3.96  2.48  \n",
       "6  3.98  2.47  \n",
       "7  4.11  2.53  \n",
       "8  3.78  2.49  \n",
       "9  4.05  2.39  "
      ]
     },
     "execution_count": 2,
     "metadata": {},
     "output_type": "execute_result"
    }
   ],
   "source": [
    "df = pd.read_csv(\"diamonds.csv\")\n",
    "df.head(10)"
   ]
  },
  {
   "cell_type": "code",
   "execution_count": 3,
   "id": "90a8e3e4",
   "metadata": {},
   "outputs": [
    {
     "name": "stdout",
     "output_type": "stream",
     "text": [
      "<class 'pandas.core.frame.DataFrame'>\n",
      "RangeIndex: 53940 entries, 0 to 53939\n",
      "Data columns (total 11 columns):\n",
      " #   Column      Non-Null Count  Dtype  \n",
      "---  ------      --------------  -----  \n",
      " 0   Unnamed: 0  53940 non-null  int64  \n",
      " 1   carat       53940 non-null  float64\n",
      " 2   cut         53940 non-null  object \n",
      " 3   color       53940 non-null  object \n",
      " 4   clarity     53940 non-null  object \n",
      " 5   depth       53940 non-null  float64\n",
      " 6   table       53940 non-null  float64\n",
      " 7   price       53940 non-null  int64  \n",
      " 8   x           53940 non-null  float64\n",
      " 9   y           53940 non-null  float64\n",
      " 10  z           53940 non-null  float64\n",
      "dtypes: float64(6), int64(2), object(3)\n",
      "memory usage: 4.5+ MB\n"
     ]
    }
   ],
   "source": [
    "df.info()"
   ]
  },
  {
   "cell_type": "code",
   "execution_count": 4,
   "id": "7cab7f56",
   "metadata": {},
   "outputs": [
    {
     "data": {
      "text/html": [
       "<div>\n",
       "<style scoped>\n",
       "    .dataframe tbody tr th:only-of-type {\n",
       "        vertical-align: middle;\n",
       "    }\n",
       "\n",
       "    .dataframe tbody tr th {\n",
       "        vertical-align: top;\n",
       "    }\n",
       "\n",
       "    .dataframe thead th {\n",
       "        text-align: right;\n",
       "    }\n",
       "</style>\n",
       "<table border=\"1\" class=\"dataframe\">\n",
       "  <thead>\n",
       "    <tr style=\"text-align: right;\">\n",
       "      <th></th>\n",
       "      <th>Unnamed: 0</th>\n",
       "      <th>carat</th>\n",
       "      <th>depth</th>\n",
       "      <th>table</th>\n",
       "      <th>price</th>\n",
       "      <th>x</th>\n",
       "      <th>y</th>\n",
       "      <th>z</th>\n",
       "    </tr>\n",
       "  </thead>\n",
       "  <tbody>\n",
       "    <tr>\n",
       "      <th>count</th>\n",
       "      <td>53940.000000</td>\n",
       "      <td>53940.000000</td>\n",
       "      <td>53940.000000</td>\n",
       "      <td>53940.000000</td>\n",
       "      <td>53940.000000</td>\n",
       "      <td>53940.000000</td>\n",
       "      <td>53940.000000</td>\n",
       "      <td>53940.000000</td>\n",
       "    </tr>\n",
       "    <tr>\n",
       "      <th>mean</th>\n",
       "      <td>26970.500000</td>\n",
       "      <td>0.797940</td>\n",
       "      <td>61.749405</td>\n",
       "      <td>57.457184</td>\n",
       "      <td>3932.799722</td>\n",
       "      <td>5.731157</td>\n",
       "      <td>5.734526</td>\n",
       "      <td>3.538734</td>\n",
       "    </tr>\n",
       "    <tr>\n",
       "      <th>std</th>\n",
       "      <td>15571.281097</td>\n",
       "      <td>0.474011</td>\n",
       "      <td>1.432621</td>\n",
       "      <td>2.234491</td>\n",
       "      <td>3989.439738</td>\n",
       "      <td>1.121761</td>\n",
       "      <td>1.142135</td>\n",
       "      <td>0.705699</td>\n",
       "    </tr>\n",
       "    <tr>\n",
       "      <th>min</th>\n",
       "      <td>1.000000</td>\n",
       "      <td>0.200000</td>\n",
       "      <td>43.000000</td>\n",
       "      <td>43.000000</td>\n",
       "      <td>326.000000</td>\n",
       "      <td>0.000000</td>\n",
       "      <td>0.000000</td>\n",
       "      <td>0.000000</td>\n",
       "    </tr>\n",
       "    <tr>\n",
       "      <th>25%</th>\n",
       "      <td>13485.750000</td>\n",
       "      <td>0.400000</td>\n",
       "      <td>61.000000</td>\n",
       "      <td>56.000000</td>\n",
       "      <td>950.000000</td>\n",
       "      <td>4.710000</td>\n",
       "      <td>4.720000</td>\n",
       "      <td>2.910000</td>\n",
       "    </tr>\n",
       "    <tr>\n",
       "      <th>50%</th>\n",
       "      <td>26970.500000</td>\n",
       "      <td>0.700000</td>\n",
       "      <td>61.800000</td>\n",
       "      <td>57.000000</td>\n",
       "      <td>2401.000000</td>\n",
       "      <td>5.700000</td>\n",
       "      <td>5.710000</td>\n",
       "      <td>3.530000</td>\n",
       "    </tr>\n",
       "    <tr>\n",
       "      <th>75%</th>\n",
       "      <td>40455.250000</td>\n",
       "      <td>1.040000</td>\n",
       "      <td>62.500000</td>\n",
       "      <td>59.000000</td>\n",
       "      <td>5324.250000</td>\n",
       "      <td>6.540000</td>\n",
       "      <td>6.540000</td>\n",
       "      <td>4.040000</td>\n",
       "    </tr>\n",
       "    <tr>\n",
       "      <th>max</th>\n",
       "      <td>53940.000000</td>\n",
       "      <td>5.010000</td>\n",
       "      <td>79.000000</td>\n",
       "      <td>95.000000</td>\n",
       "      <td>18823.000000</td>\n",
       "      <td>10.740000</td>\n",
       "      <td>58.900000</td>\n",
       "      <td>31.800000</td>\n",
       "    </tr>\n",
       "  </tbody>\n",
       "</table>\n",
       "</div>"
      ],
      "text/plain": [
       "         Unnamed: 0         carat         depth         table         price  \\\n",
       "count  53940.000000  53940.000000  53940.000000  53940.000000  53940.000000   \n",
       "mean   26970.500000      0.797940     61.749405     57.457184   3932.799722   \n",
       "std    15571.281097      0.474011      1.432621      2.234491   3989.439738   \n",
       "min        1.000000      0.200000     43.000000     43.000000    326.000000   \n",
       "25%    13485.750000      0.400000     61.000000     56.000000    950.000000   \n",
       "50%    26970.500000      0.700000     61.800000     57.000000   2401.000000   \n",
       "75%    40455.250000      1.040000     62.500000     59.000000   5324.250000   \n",
       "max    53940.000000      5.010000     79.000000     95.000000  18823.000000   \n",
       "\n",
       "                  x             y             z  \n",
       "count  53940.000000  53940.000000  53940.000000  \n",
       "mean       5.731157      5.734526      3.538734  \n",
       "std        1.121761      1.142135      0.705699  \n",
       "min        0.000000      0.000000      0.000000  \n",
       "25%        4.710000      4.720000      2.910000  \n",
       "50%        5.700000      5.710000      3.530000  \n",
       "75%        6.540000      6.540000      4.040000  \n",
       "max       10.740000     58.900000     31.800000  "
      ]
     },
     "execution_count": 4,
     "metadata": {},
     "output_type": "execute_result"
    }
   ],
   "source": [
    "df.describe()"
   ]
  },
  {
   "cell_type": "code",
   "execution_count": 5,
   "id": "66379a20",
   "metadata": {},
   "outputs": [
    {
     "data": {
      "text/plain": [
       "Unnamed: 0    0\n",
       "carat         0\n",
       "cut           0\n",
       "color         0\n",
       "clarity       0\n",
       "depth         0\n",
       "table         0\n",
       "price         0\n",
       "x             0\n",
       "y             0\n",
       "z             0\n",
       "dtype: int64"
      ]
     },
     "execution_count": 5,
     "metadata": {},
     "output_type": "execute_result"
    }
   ],
   "source": [
    "df.isnull().sum()"
   ]
  },
  {
   "cell_type": "code",
   "execution_count": 6,
   "id": "8c9722fb",
   "metadata": {},
   "outputs": [],
   "source": [
    "df = df.drop([\"Unnamed: 0\"], axis = 1)"
   ]
  },
  {
   "cell_type": "code",
   "execution_count": 7,
   "id": "1a2ecdf5",
   "metadata": {},
   "outputs": [
    {
     "data": {
      "text/plain": [
       "146"
      ]
     },
     "execution_count": 7,
     "metadata": {},
     "output_type": "execute_result"
    }
   ],
   "source": [
    "# Checking for duplicate rows\n",
    "df.duplicated().sum()"
   ]
  },
  {
   "cell_type": "code",
   "execution_count": 8,
   "id": "e109d2d0",
   "metadata": {},
   "outputs": [],
   "source": [
    "# Dropping them\n",
    "df = df.drop_duplicates().reset_index(drop = True)"
   ]
  },
  {
   "cell_type": "code",
   "execution_count": 9,
   "id": "2952647e",
   "metadata": {},
   "outputs": [
    {
     "data": {
      "text/html": [
       "<div>\n",
       "<style scoped>\n",
       "    .dataframe tbody tr th:only-of-type {\n",
       "        vertical-align: middle;\n",
       "    }\n",
       "\n",
       "    .dataframe tbody tr th {\n",
       "        vertical-align: top;\n",
       "    }\n",
       "\n",
       "    .dataframe thead th {\n",
       "        text-align: right;\n",
       "    }\n",
       "</style>\n",
       "<table border=\"1\" class=\"dataframe\">\n",
       "  <thead>\n",
       "    <tr style=\"text-align: right;\">\n",
       "      <th></th>\n",
       "      <th>count</th>\n",
       "      <th>unique</th>\n",
       "      <th>top</th>\n",
       "      <th>freq</th>\n",
       "    </tr>\n",
       "  </thead>\n",
       "  <tbody>\n",
       "    <tr>\n",
       "      <th>cut</th>\n",
       "      <td>53794</td>\n",
       "      <td>5</td>\n",
       "      <td>Ideal</td>\n",
       "      <td>21488</td>\n",
       "    </tr>\n",
       "    <tr>\n",
       "      <th>color</th>\n",
       "      <td>53794</td>\n",
       "      <td>7</td>\n",
       "      <td>G</td>\n",
       "      <td>11262</td>\n",
       "    </tr>\n",
       "    <tr>\n",
       "      <th>clarity</th>\n",
       "      <td>53794</td>\n",
       "      <td>8</td>\n",
       "      <td>SI1</td>\n",
       "      <td>13032</td>\n",
       "    </tr>\n",
       "  </tbody>\n",
       "</table>\n",
       "</div>"
      ],
      "text/plain": [
       "         count unique    top   freq\n",
       "cut      53794      5  Ideal  21488\n",
       "color    53794      7      G  11262\n",
       "clarity  53794      8    SI1  13032"
      ]
     },
     "execution_count": 9,
     "metadata": {},
     "output_type": "execute_result"
    }
   ],
   "source": [
    "# Describing Categorical data\n",
    "df.describe(include = \"O\").T"
   ]
  },
  {
   "cell_type": "code",
   "execution_count": 10,
   "id": "cdadb18b",
   "metadata": {},
   "outputs": [
    {
     "data": {
      "text/html": [
       "<div>\n",
       "<style scoped>\n",
       "    .dataframe tbody tr th:only-of-type {\n",
       "        vertical-align: middle;\n",
       "    }\n",
       "\n",
       "    .dataframe tbody tr th {\n",
       "        vertical-align: top;\n",
       "    }\n",
       "\n",
       "    .dataframe thead th {\n",
       "        text-align: right;\n",
       "    }\n",
       "</style>\n",
       "<table border=\"1\" class=\"dataframe\">\n",
       "  <thead>\n",
       "    <tr style=\"text-align: right;\">\n",
       "      <th></th>\n",
       "      <th>count</th>\n",
       "      <th>mean</th>\n",
       "      <th>std</th>\n",
       "      <th>min</th>\n",
       "      <th>25%</th>\n",
       "      <th>50%</th>\n",
       "      <th>75%</th>\n",
       "      <th>max</th>\n",
       "    </tr>\n",
       "  </thead>\n",
       "  <tbody>\n",
       "    <tr>\n",
       "      <th>carat</th>\n",
       "      <td>53794.0</td>\n",
       "      <td>0.797780</td>\n",
       "      <td>0.473390</td>\n",
       "      <td>0.2</td>\n",
       "      <td>0.40</td>\n",
       "      <td>0.70</td>\n",
       "      <td>1.04</td>\n",
       "      <td>5.01</td>\n",
       "    </tr>\n",
       "    <tr>\n",
       "      <th>depth</th>\n",
       "      <td>53794.0</td>\n",
       "      <td>61.748080</td>\n",
       "      <td>1.429909</td>\n",
       "      <td>43.0</td>\n",
       "      <td>61.00</td>\n",
       "      <td>61.80</td>\n",
       "      <td>62.50</td>\n",
       "      <td>79.00</td>\n",
       "    </tr>\n",
       "    <tr>\n",
       "      <th>table</th>\n",
       "      <td>53794.0</td>\n",
       "      <td>57.458109</td>\n",
       "      <td>2.233679</td>\n",
       "      <td>43.0</td>\n",
       "      <td>56.00</td>\n",
       "      <td>57.00</td>\n",
       "      <td>59.00</td>\n",
       "      <td>95.00</td>\n",
       "    </tr>\n",
       "    <tr>\n",
       "      <th>price</th>\n",
       "      <td>53794.0</td>\n",
       "      <td>3933.065082</td>\n",
       "      <td>3988.114460</td>\n",
       "      <td>326.0</td>\n",
       "      <td>951.00</td>\n",
       "      <td>2401.00</td>\n",
       "      <td>5326.75</td>\n",
       "      <td>18823.00</td>\n",
       "    </tr>\n",
       "    <tr>\n",
       "      <th>x</th>\n",
       "      <td>53794.0</td>\n",
       "      <td>5.731214</td>\n",
       "      <td>1.120695</td>\n",
       "      <td>0.0</td>\n",
       "      <td>4.71</td>\n",
       "      <td>5.70</td>\n",
       "      <td>6.54</td>\n",
       "      <td>10.74</td>\n",
       "    </tr>\n",
       "    <tr>\n",
       "      <th>y</th>\n",
       "      <td>53794.0</td>\n",
       "      <td>5.734653</td>\n",
       "      <td>1.141209</td>\n",
       "      <td>0.0</td>\n",
       "      <td>4.72</td>\n",
       "      <td>5.71</td>\n",
       "      <td>6.54</td>\n",
       "      <td>58.90</td>\n",
       "    </tr>\n",
       "    <tr>\n",
       "      <th>z</th>\n",
       "      <td>53794.0</td>\n",
       "      <td>3.538714</td>\n",
       "      <td>0.705037</td>\n",
       "      <td>0.0</td>\n",
       "      <td>2.91</td>\n",
       "      <td>3.53</td>\n",
       "      <td>4.03</td>\n",
       "      <td>31.80</td>\n",
       "    </tr>\n",
       "  </tbody>\n",
       "</table>\n",
       "</div>"
      ],
      "text/plain": [
       "         count         mean          std    min     25%      50%      75%  \\\n",
       "carat  53794.0     0.797780     0.473390    0.2    0.40     0.70     1.04   \n",
       "depth  53794.0    61.748080     1.429909   43.0   61.00    61.80    62.50   \n",
       "table  53794.0    57.458109     2.233679   43.0   56.00    57.00    59.00   \n",
       "price  53794.0  3933.065082  3988.114460  326.0  951.00  2401.00  5326.75   \n",
       "x      53794.0     5.731214     1.120695    0.0    4.71     5.70     6.54   \n",
       "y      53794.0     5.734653     1.141209    0.0    4.72     5.71     6.54   \n",
       "z      53794.0     3.538714     0.705037    0.0    2.91     3.53     4.03   \n",
       "\n",
       "            max  \n",
       "carat      5.01  \n",
       "depth     79.00  \n",
       "table     95.00  \n",
       "price  18823.00  \n",
       "x         10.74  \n",
       "y         58.90  \n",
       "z         31.80  "
      ]
     },
     "execution_count": 10,
     "metadata": {},
     "output_type": "execute_result"
    }
   ],
   "source": [
    "# Describing Numerical data\n",
    "df.describe().T"
   ]
  },
  {
   "cell_type": "code",
   "execution_count": 11,
   "id": "8bd492f5",
   "metadata": {},
   "outputs": [
    {
     "data": {
      "text/html": [
       "<style  type=\"text/css\" >\n",
       "#T_839b4_row0_col9,#T_839b4_row1_col9,#T_839b4_row2_col9,#T_839b4_row3_col9,#T_839b4_row4_col9,#T_839b4_row5_col7,#T_839b4_row5_col9,#T_839b4_row6_col7,#T_839b4_row6_col8,#T_839b4_row6_col9,#T_839b4_row7_col9,#T_839b4_row8_col7,#T_839b4_row8_col8,#T_839b4_row8_col9,#T_839b4_row9_col9,#T_839b4_row10_col7,#T_839b4_row10_col8,#T_839b4_row10_col9,#T_839b4_row11_col9,#T_839b4_row12_col7,#T_839b4_row12_col8,#T_839b4_row12_col9,#T_839b4_row13_col9,#T_839b4_row14_col7,#T_839b4_row14_col8,#T_839b4_row14_col9,#T_839b4_row15_col9,#T_839b4_row16_col9,#T_839b4_row17_col7,#T_839b4_row17_col8,#T_839b4_row17_col9,#T_839b4_row18_col9{\n",
       "            background:  yellow;\n",
       "        }</style><table id=\"T_839b4_\" ><thead>    <tr>        <th class=\"blank level0\" ></th>        <th class=\"col_heading level0 col0\" >carat</th>        <th class=\"col_heading level0 col1\" >cut</th>        <th class=\"col_heading level0 col2\" >color</th>        <th class=\"col_heading level0 col3\" >clarity</th>        <th class=\"col_heading level0 col4\" >depth</th>        <th class=\"col_heading level0 col5\" >table</th>        <th class=\"col_heading level0 col6\" >price</th>        <th class=\"col_heading level0 col7\" >x</th>        <th class=\"col_heading level0 col8\" >y</th>        <th class=\"col_heading level0 col9\" >z</th>    </tr></thead><tbody>\n",
       "                <tr>\n",
       "                        <th id=\"T_839b4_level0_row0\" class=\"row_heading level0 row0\" >2201</th>\n",
       "                        <td id=\"T_839b4_row0_col0\" class=\"data row0 col0\" >1.00</td>\n",
       "                        <td id=\"T_839b4_row0_col1\" class=\"data row0 col1\" >Premium</td>\n",
       "                        <td id=\"T_839b4_row0_col2\" class=\"data row0 col2\" >G</td>\n",
       "                        <td id=\"T_839b4_row0_col3\" class=\"data row0 col3\" >SI2</td>\n",
       "                        <td id=\"T_839b4_row0_col4\" class=\"data row0 col4\" >59.1</td>\n",
       "                        <td id=\"T_839b4_row0_col5\" class=\"data row0 col5\" >59.0</td>\n",
       "                        <td id=\"T_839b4_row0_col6\" class=\"data row0 col6\" >3142</td>\n",
       "                        <td id=\"T_839b4_row0_col7\" class=\"data row0 col7\" >6.55</td>\n",
       "                        <td id=\"T_839b4_row0_col8\" class=\"data row0 col8\" >6.48</td>\n",
       "                        <td id=\"T_839b4_row0_col9\" class=\"data row0 col9\" >0.00</td>\n",
       "            </tr>\n",
       "            <tr>\n",
       "                        <th id=\"T_839b4_level0_row1\" class=\"row_heading level0 row1\" >2308</th>\n",
       "                        <td id=\"T_839b4_row1_col0\" class=\"data row1 col0\" >1.01</td>\n",
       "                        <td id=\"T_839b4_row1_col1\" class=\"data row1 col1\" >Premium</td>\n",
       "                        <td id=\"T_839b4_row1_col2\" class=\"data row1 col2\" >H</td>\n",
       "                        <td id=\"T_839b4_row1_col3\" class=\"data row1 col3\" >I1</td>\n",
       "                        <td id=\"T_839b4_row1_col4\" class=\"data row1 col4\" >58.1</td>\n",
       "                        <td id=\"T_839b4_row1_col5\" class=\"data row1 col5\" >59.0</td>\n",
       "                        <td id=\"T_839b4_row1_col6\" class=\"data row1 col6\" >3167</td>\n",
       "                        <td id=\"T_839b4_row1_col7\" class=\"data row1 col7\" >6.66</td>\n",
       "                        <td id=\"T_839b4_row1_col8\" class=\"data row1 col8\" >6.60</td>\n",
       "                        <td id=\"T_839b4_row1_col9\" class=\"data row1 col9\" >0.00</td>\n",
       "            </tr>\n",
       "            <tr>\n",
       "                        <th id=\"T_839b4_level0_row2\" class=\"row_heading level0 row2\" >4778</th>\n",
       "                        <td id=\"T_839b4_row2_col0\" class=\"data row2 col0\" >1.10</td>\n",
       "                        <td id=\"T_839b4_row2_col1\" class=\"data row2 col1\" >Premium</td>\n",
       "                        <td id=\"T_839b4_row2_col2\" class=\"data row2 col2\" >G</td>\n",
       "                        <td id=\"T_839b4_row2_col3\" class=\"data row2 col3\" >SI2</td>\n",
       "                        <td id=\"T_839b4_row2_col4\" class=\"data row2 col4\" >63.0</td>\n",
       "                        <td id=\"T_839b4_row2_col5\" class=\"data row2 col5\" >59.0</td>\n",
       "                        <td id=\"T_839b4_row2_col6\" class=\"data row2 col6\" >3696</td>\n",
       "                        <td id=\"T_839b4_row2_col7\" class=\"data row2 col7\" >6.50</td>\n",
       "                        <td id=\"T_839b4_row2_col8\" class=\"data row2 col8\" >6.47</td>\n",
       "                        <td id=\"T_839b4_row2_col9\" class=\"data row2 col9\" >0.00</td>\n",
       "            </tr>\n",
       "            <tr>\n",
       "                        <th id=\"T_839b4_level0_row3\" class=\"row_heading level0 row3\" >5457</th>\n",
       "                        <td id=\"T_839b4_row3_col0\" class=\"data row3 col0\" >1.01</td>\n",
       "                        <td id=\"T_839b4_row3_col1\" class=\"data row3 col1\" >Premium</td>\n",
       "                        <td id=\"T_839b4_row3_col2\" class=\"data row3 col2\" >F</td>\n",
       "                        <td id=\"T_839b4_row3_col3\" class=\"data row3 col3\" >SI2</td>\n",
       "                        <td id=\"T_839b4_row3_col4\" class=\"data row3 col4\" >59.2</td>\n",
       "                        <td id=\"T_839b4_row3_col5\" class=\"data row3 col5\" >58.0</td>\n",
       "                        <td id=\"T_839b4_row3_col6\" class=\"data row3 col6\" >3837</td>\n",
       "                        <td id=\"T_839b4_row3_col7\" class=\"data row3 col7\" >6.50</td>\n",
       "                        <td id=\"T_839b4_row3_col8\" class=\"data row3 col8\" >6.47</td>\n",
       "                        <td id=\"T_839b4_row3_col9\" class=\"data row3 col9\" >0.00</td>\n",
       "            </tr>\n",
       "            <tr>\n",
       "                        <th id=\"T_839b4_level0_row4\" class=\"row_heading level0 row4\" >10145</th>\n",
       "                        <td id=\"T_839b4_row4_col0\" class=\"data row4 col0\" >1.50</td>\n",
       "                        <td id=\"T_839b4_row4_col1\" class=\"data row4 col1\" >Good</td>\n",
       "                        <td id=\"T_839b4_row4_col2\" class=\"data row4 col2\" >G</td>\n",
       "                        <td id=\"T_839b4_row4_col3\" class=\"data row4 col3\" >I1</td>\n",
       "                        <td id=\"T_839b4_row4_col4\" class=\"data row4 col4\" >64.0</td>\n",
       "                        <td id=\"T_839b4_row4_col5\" class=\"data row4 col5\" >61.0</td>\n",
       "                        <td id=\"T_839b4_row4_col6\" class=\"data row4 col6\" >4731</td>\n",
       "                        <td id=\"T_839b4_row4_col7\" class=\"data row4 col7\" >7.15</td>\n",
       "                        <td id=\"T_839b4_row4_col8\" class=\"data row4 col8\" >7.04</td>\n",
       "                        <td id=\"T_839b4_row4_col9\" class=\"data row4 col9\" >0.00</td>\n",
       "            </tr>\n",
       "            <tr>\n",
       "                        <th id=\"T_839b4_level0_row5\" class=\"row_heading level0 row5\" >11156</th>\n",
       "                        <td id=\"T_839b4_row5_col0\" class=\"data row5 col0\" >1.07</td>\n",
       "                        <td id=\"T_839b4_row5_col1\" class=\"data row5 col1\" >Ideal</td>\n",
       "                        <td id=\"T_839b4_row5_col2\" class=\"data row5 col2\" >F</td>\n",
       "                        <td id=\"T_839b4_row5_col3\" class=\"data row5 col3\" >SI2</td>\n",
       "                        <td id=\"T_839b4_row5_col4\" class=\"data row5 col4\" >61.6</td>\n",
       "                        <td id=\"T_839b4_row5_col5\" class=\"data row5 col5\" >56.0</td>\n",
       "                        <td id=\"T_839b4_row5_col6\" class=\"data row5 col6\" >4954</td>\n",
       "                        <td id=\"T_839b4_row5_col7\" class=\"data row5 col7\" >0.00</td>\n",
       "                        <td id=\"T_839b4_row5_col8\" class=\"data row5 col8\" >6.62</td>\n",
       "                        <td id=\"T_839b4_row5_col9\" class=\"data row5 col9\" >0.00</td>\n",
       "            </tr>\n",
       "            <tr>\n",
       "                        <th id=\"T_839b4_level0_row6\" class=\"row_heading level0 row6\" >11935</th>\n",
       "                        <td id=\"T_839b4_row6_col0\" class=\"data row6 col0\" >1.00</td>\n",
       "                        <td id=\"T_839b4_row6_col1\" class=\"data row6 col1\" >Very Good</td>\n",
       "                        <td id=\"T_839b4_row6_col2\" class=\"data row6 col2\" >H</td>\n",
       "                        <td id=\"T_839b4_row6_col3\" class=\"data row6 col3\" >VS2</td>\n",
       "                        <td id=\"T_839b4_row6_col4\" class=\"data row6 col4\" >63.3</td>\n",
       "                        <td id=\"T_839b4_row6_col5\" class=\"data row6 col5\" >53.0</td>\n",
       "                        <td id=\"T_839b4_row6_col6\" class=\"data row6 col6\" >5139</td>\n",
       "                        <td id=\"T_839b4_row6_col7\" class=\"data row6 col7\" >0.00</td>\n",
       "                        <td id=\"T_839b4_row6_col8\" class=\"data row6 col8\" >0.00</td>\n",
       "                        <td id=\"T_839b4_row6_col9\" class=\"data row6 col9\" >0.00</td>\n",
       "            </tr>\n",
       "            <tr>\n",
       "                        <th id=\"T_839b4_level0_row7\" class=\"row_heading level0 row7\" >13570</th>\n",
       "                        <td id=\"T_839b4_row7_col0\" class=\"data row7 col0\" >1.15</td>\n",
       "                        <td id=\"T_839b4_row7_col1\" class=\"data row7 col1\" >Ideal</td>\n",
       "                        <td id=\"T_839b4_row7_col2\" class=\"data row7 col2\" >G</td>\n",
       "                        <td id=\"T_839b4_row7_col3\" class=\"data row7 col3\" >VS2</td>\n",
       "                        <td id=\"T_839b4_row7_col4\" class=\"data row7 col4\" >59.2</td>\n",
       "                        <td id=\"T_839b4_row7_col5\" class=\"data row7 col5\" >56.0</td>\n",
       "                        <td id=\"T_839b4_row7_col6\" class=\"data row7 col6\" >5564</td>\n",
       "                        <td id=\"T_839b4_row7_col7\" class=\"data row7 col7\" >6.88</td>\n",
       "                        <td id=\"T_839b4_row7_col8\" class=\"data row7 col8\" >6.83</td>\n",
       "                        <td id=\"T_839b4_row7_col9\" class=\"data row7 col9\" >0.00</td>\n",
       "            </tr>\n",
       "            <tr>\n",
       "                        <th id=\"T_839b4_level0_row8\" class=\"row_heading level0 row8\" >15914</th>\n",
       "                        <td id=\"T_839b4_row8_col0\" class=\"data row8 col0\" >1.14</td>\n",
       "                        <td id=\"T_839b4_row8_col1\" class=\"data row8 col1\" >Fair</td>\n",
       "                        <td id=\"T_839b4_row8_col2\" class=\"data row8 col2\" >G</td>\n",
       "                        <td id=\"T_839b4_row8_col3\" class=\"data row8 col3\" >VS1</td>\n",
       "                        <td id=\"T_839b4_row8_col4\" class=\"data row8 col4\" >57.5</td>\n",
       "                        <td id=\"T_839b4_row8_col5\" class=\"data row8 col5\" >67.0</td>\n",
       "                        <td id=\"T_839b4_row8_col6\" class=\"data row8 col6\" >6381</td>\n",
       "                        <td id=\"T_839b4_row8_col7\" class=\"data row8 col7\" >0.00</td>\n",
       "                        <td id=\"T_839b4_row8_col8\" class=\"data row8 col8\" >0.00</td>\n",
       "                        <td id=\"T_839b4_row8_col9\" class=\"data row8 col9\" >0.00</td>\n",
       "            </tr>\n",
       "            <tr>\n",
       "                        <th id=\"T_839b4_level0_row9\" class=\"row_heading level0 row9\" >24338</th>\n",
       "                        <td id=\"T_839b4_row9_col0\" class=\"data row9 col0\" >2.18</td>\n",
       "                        <td id=\"T_839b4_row9_col1\" class=\"data row9 col1\" >Premium</td>\n",
       "                        <td id=\"T_839b4_row9_col2\" class=\"data row9 col2\" >H</td>\n",
       "                        <td id=\"T_839b4_row9_col3\" class=\"data row9 col3\" >SI2</td>\n",
       "                        <td id=\"T_839b4_row9_col4\" class=\"data row9 col4\" >59.4</td>\n",
       "                        <td id=\"T_839b4_row9_col5\" class=\"data row9 col5\" >61.0</td>\n",
       "                        <td id=\"T_839b4_row9_col6\" class=\"data row9 col6\" >12631</td>\n",
       "                        <td id=\"T_839b4_row9_col7\" class=\"data row9 col7\" >8.49</td>\n",
       "                        <td id=\"T_839b4_row9_col8\" class=\"data row9 col8\" >8.45</td>\n",
       "                        <td id=\"T_839b4_row9_col9\" class=\"data row9 col9\" >0.00</td>\n",
       "            </tr>\n",
       "            <tr>\n",
       "                        <th id=\"T_839b4_level0_row10\" class=\"row_heading level0 row10\" >24464</th>\n",
       "                        <td id=\"T_839b4_row10_col0\" class=\"data row10 col0\" >1.56</td>\n",
       "                        <td id=\"T_839b4_row10_col1\" class=\"data row10 col1\" >Ideal</td>\n",
       "                        <td id=\"T_839b4_row10_col2\" class=\"data row10 col2\" >G</td>\n",
       "                        <td id=\"T_839b4_row10_col3\" class=\"data row10 col3\" >VS2</td>\n",
       "                        <td id=\"T_839b4_row10_col4\" class=\"data row10 col4\" >62.2</td>\n",
       "                        <td id=\"T_839b4_row10_col5\" class=\"data row10 col5\" >54.0</td>\n",
       "                        <td id=\"T_839b4_row10_col6\" class=\"data row10 col6\" >12800</td>\n",
       "                        <td id=\"T_839b4_row10_col7\" class=\"data row10 col7\" >0.00</td>\n",
       "                        <td id=\"T_839b4_row10_col8\" class=\"data row10 col8\" >0.00</td>\n",
       "                        <td id=\"T_839b4_row10_col9\" class=\"data row10 col9\" >0.00</td>\n",
       "            </tr>\n",
       "            <tr>\n",
       "                        <th id=\"T_839b4_level0_row11\" class=\"row_heading level0 row11\" >26063</th>\n",
       "                        <td id=\"T_839b4_row11_col0\" class=\"data row11 col0\" >2.25</td>\n",
       "                        <td id=\"T_839b4_row11_col1\" class=\"data row11 col1\" >Premium</td>\n",
       "                        <td id=\"T_839b4_row11_col2\" class=\"data row11 col2\" >I</td>\n",
       "                        <td id=\"T_839b4_row11_col3\" class=\"data row11 col3\" >SI1</td>\n",
       "                        <td id=\"T_839b4_row11_col4\" class=\"data row11 col4\" >61.3</td>\n",
       "                        <td id=\"T_839b4_row11_col5\" class=\"data row11 col5\" >58.0</td>\n",
       "                        <td id=\"T_839b4_row11_col6\" class=\"data row11 col6\" >15397</td>\n",
       "                        <td id=\"T_839b4_row11_col7\" class=\"data row11 col7\" >8.52</td>\n",
       "                        <td id=\"T_839b4_row11_col8\" class=\"data row11 col8\" >8.42</td>\n",
       "                        <td id=\"T_839b4_row11_col9\" class=\"data row11 col9\" >0.00</td>\n",
       "            </tr>\n",
       "            <tr>\n",
       "                        <th id=\"T_839b4_level0_row12\" class=\"row_heading level0 row12\" >26183</th>\n",
       "                        <td id=\"T_839b4_row12_col0\" class=\"data row12 col0\" >1.20</td>\n",
       "                        <td id=\"T_839b4_row12_col1\" class=\"data row12 col1\" >Premium</td>\n",
       "                        <td id=\"T_839b4_row12_col2\" class=\"data row12 col2\" >D</td>\n",
       "                        <td id=\"T_839b4_row12_col3\" class=\"data row12 col3\" >VVS1</td>\n",
       "                        <td id=\"T_839b4_row12_col4\" class=\"data row12 col4\" >62.1</td>\n",
       "                        <td id=\"T_839b4_row12_col5\" class=\"data row12 col5\" >59.0</td>\n",
       "                        <td id=\"T_839b4_row12_col6\" class=\"data row12 col6\" >15686</td>\n",
       "                        <td id=\"T_839b4_row12_col7\" class=\"data row12 col7\" >0.00</td>\n",
       "                        <td id=\"T_839b4_row12_col8\" class=\"data row12 col8\" >0.00</td>\n",
       "                        <td id=\"T_839b4_row12_col9\" class=\"data row12 col9\" >0.00</td>\n",
       "            </tr>\n",
       "            <tr>\n",
       "                        <th id=\"T_839b4_level0_row13\" class=\"row_heading level0 row13\" >27047</th>\n",
       "                        <td id=\"T_839b4_row13_col0\" class=\"data row13 col0\" >2.20</td>\n",
       "                        <td id=\"T_839b4_row13_col1\" class=\"data row13 col1\" >Premium</td>\n",
       "                        <td id=\"T_839b4_row13_col2\" class=\"data row13 col2\" >H</td>\n",
       "                        <td id=\"T_839b4_row13_col3\" class=\"data row13 col3\" >SI1</td>\n",
       "                        <td id=\"T_839b4_row13_col4\" class=\"data row13 col4\" >61.2</td>\n",
       "                        <td id=\"T_839b4_row13_col5\" class=\"data row13 col5\" >59.0</td>\n",
       "                        <td id=\"T_839b4_row13_col6\" class=\"data row13 col6\" >17265</td>\n",
       "                        <td id=\"T_839b4_row13_col7\" class=\"data row13 col7\" >8.42</td>\n",
       "                        <td id=\"T_839b4_row13_col8\" class=\"data row13 col8\" >8.37</td>\n",
       "                        <td id=\"T_839b4_row13_col9\" class=\"data row13 col9\" >0.00</td>\n",
       "            </tr>\n",
       "            <tr>\n",
       "                        <th id=\"T_839b4_level0_row14\" class=\"row_heading level0 row14\" >27364</th>\n",
       "                        <td id=\"T_839b4_row14_col0\" class=\"data row14 col0\" >2.25</td>\n",
       "                        <td id=\"T_839b4_row14_col1\" class=\"data row14 col1\" >Premium</td>\n",
       "                        <td id=\"T_839b4_row14_col2\" class=\"data row14 col2\" >H</td>\n",
       "                        <td id=\"T_839b4_row14_col3\" class=\"data row14 col3\" >SI2</td>\n",
       "                        <td id=\"T_839b4_row14_col4\" class=\"data row14 col4\" >62.8</td>\n",
       "                        <td id=\"T_839b4_row14_col5\" class=\"data row14 col5\" >59.0</td>\n",
       "                        <td id=\"T_839b4_row14_col6\" class=\"data row14 col6\" >18034</td>\n",
       "                        <td id=\"T_839b4_row14_col7\" class=\"data row14 col7\" >0.00</td>\n",
       "                        <td id=\"T_839b4_row14_col8\" class=\"data row14 col8\" >0.00</td>\n",
       "                        <td id=\"T_839b4_row14_col9\" class=\"data row14 col9\" >0.00</td>\n",
       "            </tr>\n",
       "            <tr>\n",
       "                        <th id=\"T_839b4_level0_row15\" class=\"row_heading level0 row15\" >27438</th>\n",
       "                        <td id=\"T_839b4_row15_col0\" class=\"data row15 col0\" >2.02</td>\n",
       "                        <td id=\"T_839b4_row15_col1\" class=\"data row15 col1\" >Premium</td>\n",
       "                        <td id=\"T_839b4_row15_col2\" class=\"data row15 col2\" >H</td>\n",
       "                        <td id=\"T_839b4_row15_col3\" class=\"data row15 col3\" >VS2</td>\n",
       "                        <td id=\"T_839b4_row15_col4\" class=\"data row15 col4\" >62.7</td>\n",
       "                        <td id=\"T_839b4_row15_col5\" class=\"data row15 col5\" >53.0</td>\n",
       "                        <td id=\"T_839b4_row15_col6\" class=\"data row15 col6\" >18207</td>\n",
       "                        <td id=\"T_839b4_row15_col7\" class=\"data row15 col7\" >8.02</td>\n",
       "                        <td id=\"T_839b4_row15_col8\" class=\"data row15 col8\" >7.95</td>\n",
       "                        <td id=\"T_839b4_row15_col9\" class=\"data row15 col9\" >0.00</td>\n",
       "            </tr>\n",
       "            <tr>\n",
       "                        <th id=\"T_839b4_level0_row16\" class=\"row_heading level0 row16\" >27672</th>\n",
       "                        <td id=\"T_839b4_row16_col0\" class=\"data row16 col0\" >2.80</td>\n",
       "                        <td id=\"T_839b4_row16_col1\" class=\"data row16 col1\" >Good</td>\n",
       "                        <td id=\"T_839b4_row16_col2\" class=\"data row16 col2\" >G</td>\n",
       "                        <td id=\"T_839b4_row16_col3\" class=\"data row16 col3\" >SI2</td>\n",
       "                        <td id=\"T_839b4_row16_col4\" class=\"data row16 col4\" >63.8</td>\n",
       "                        <td id=\"T_839b4_row16_col5\" class=\"data row16 col5\" >58.0</td>\n",
       "                        <td id=\"T_839b4_row16_col6\" class=\"data row16 col6\" >18788</td>\n",
       "                        <td id=\"T_839b4_row16_col7\" class=\"data row16 col7\" >8.90</td>\n",
       "                        <td id=\"T_839b4_row16_col8\" class=\"data row16 col8\" >8.85</td>\n",
       "                        <td id=\"T_839b4_row16_col9\" class=\"data row16 col9\" >0.00</td>\n",
       "            </tr>\n",
       "            <tr>\n",
       "                        <th id=\"T_839b4_level0_row17\" class=\"row_heading level0 row17\" >49413</th>\n",
       "                        <td id=\"T_839b4_row17_col0\" class=\"data row17 col0\" >0.71</td>\n",
       "                        <td id=\"T_839b4_row17_col1\" class=\"data row17 col1\" >Good</td>\n",
       "                        <td id=\"T_839b4_row17_col2\" class=\"data row17 col2\" >F</td>\n",
       "                        <td id=\"T_839b4_row17_col3\" class=\"data row17 col3\" >SI2</td>\n",
       "                        <td id=\"T_839b4_row17_col4\" class=\"data row17 col4\" >64.1</td>\n",
       "                        <td id=\"T_839b4_row17_col5\" class=\"data row17 col5\" >60.0</td>\n",
       "                        <td id=\"T_839b4_row17_col6\" class=\"data row17 col6\" >2130</td>\n",
       "                        <td id=\"T_839b4_row17_col7\" class=\"data row17 col7\" >0.00</td>\n",
       "                        <td id=\"T_839b4_row17_col8\" class=\"data row17 col8\" >0.00</td>\n",
       "                        <td id=\"T_839b4_row17_col9\" class=\"data row17 col9\" >0.00</td>\n",
       "            </tr>\n",
       "            <tr>\n",
       "                        <th id=\"T_839b4_level0_row18\" class=\"row_heading level0 row18\" >51361</th>\n",
       "                        <td id=\"T_839b4_row18_col0\" class=\"data row18 col0\" >1.12</td>\n",
       "                        <td id=\"T_839b4_row18_col1\" class=\"data row18 col1\" >Premium</td>\n",
       "                        <td id=\"T_839b4_row18_col2\" class=\"data row18 col2\" >G</td>\n",
       "                        <td id=\"T_839b4_row18_col3\" class=\"data row18 col3\" >I1</td>\n",
       "                        <td id=\"T_839b4_row18_col4\" class=\"data row18 col4\" >60.4</td>\n",
       "                        <td id=\"T_839b4_row18_col5\" class=\"data row18 col5\" >59.0</td>\n",
       "                        <td id=\"T_839b4_row18_col6\" class=\"data row18 col6\" >2383</td>\n",
       "                        <td id=\"T_839b4_row18_col7\" class=\"data row18 col7\" >6.71</td>\n",
       "                        <td id=\"T_839b4_row18_col8\" class=\"data row18 col8\" >6.67</td>\n",
       "                        <td id=\"T_839b4_row18_col9\" class=\"data row18 col9\" >0.00</td>\n",
       "            </tr>\n",
       "    </tbody></table>"
      ],
      "text/plain": [
       "<pandas.io.formats.style.Styler at 0x20d557c9520>"
      ]
     },
     "execution_count": 11,
     "metadata": {},
     "output_type": "execute_result"
    }
   ],
   "source": [
    "format_dict = {\"carat\" : \"{:.2f}\", \"depth\" : \"{:.1f}\", \"table\" : \"{:.1f}\", \"x\" : \"{:.2f}\", \"y\" : \"{:.2f}\", \"z\" : \"{:.2f}\"}\n",
    "df_zero = df.loc[(df[\"x\"] == 0) | (df[\"y\"] == 0) | (df[\"z\"] == 0)]\n",
    "df_zero.style.apply(lambda x: [\"background: yellow\" if n == 0 else \"\" for n in x], axis = 1).format(format_dict)"
   ]
  },
  {
   "cell_type": "code",
   "execution_count": 12,
   "id": "8c2aa00a",
   "metadata": {},
   "outputs": [
    {
     "data": {
      "text/plain": [
       "x     7\n",
       "y     6\n",
       "z    19\n",
       "dtype: int64"
      ]
     },
     "execution_count": 12,
     "metadata": {},
     "output_type": "execute_result"
    }
   ],
   "source": [
    "# Transforming them into NaN values\n",
    "df.loc[df[\"x\"] == 0, \"x\"] = np.nan \n",
    "df.loc[df[\"y\"] == 0, \"y\"] = np.nan \n",
    "df.loc[df[\"z\"] == 0, \"z\"] = np.nan \n",
    "\n",
    "# Seeing the number of the new missing values\n",
    "df[[\"x\", \"y\", \"z\"]].isnull().sum()"
   ]
  },
  {
   "cell_type": "code",
   "execution_count": 13,
   "id": "dc011b57",
   "metadata": {},
   "outputs": [],
   "source": [
    "def get_corr(col):\n",
    "    return df.corr().unstack()[col].sort_values(ascending = False)    "
   ]
  },
  {
   "cell_type": "code",
   "execution_count": 14,
   "id": "fc1bd6c7",
   "metadata": {},
   "outputs": [
    {
     "name": "stdout",
     "output_type": "stream",
     "text": [
      "x correlations\n",
      "\n",
      "x        1.000000\n",
      "carat    0.977842\n",
      "z        0.975382\n",
      "y        0.974837\n",
      "price    0.887133\n",
      "table    0.195484\n",
      "depth   -0.025304\n",
      "dtype: float64\n",
      "\n",
      "-------------------------\n",
      "\n",
      "y correlations\n",
      "\n",
      "y        1.000000\n",
      "x        0.974837\n",
      "z        0.956623\n",
      "carat    0.953979\n",
      "price    0.867691\n",
      "table    0.183839\n",
      "depth   -0.029335\n",
      "dtype: float64\n",
      "\n",
      "-------------------------\n",
      "\n",
      "z correlations\n",
      "\n",
      "z        1.000000\n",
      "x        0.975382\n",
      "carat    0.961030\n",
      "y        0.956623\n",
      "price    0.868030\n",
      "table    0.151683\n",
      "depth    0.094678\n",
      "dtype: float64\n"
     ]
    }
   ],
   "source": [
    "print(\"x correlations\\n\\n{0}\\n\\n{3}\\n\\ny correlations\\n\\n{1}\\n\\n{3}\\n\\nz correlations\\n\\n{2}\".format(get_corr(\"x\"), get_corr(\"y\"), get_corr(\"z\"), 25*\"-\"))"
   ]
  },
  {
   "cell_type": "code",
   "execution_count": 15,
   "id": "db5bc9c8",
   "metadata": {},
   "outputs": [],
   "source": [
    "def fill_nan_values(col):\n",
    "    carat = df.groupby([\"carat\"])[col].median()\n",
    "    index_list = list(df.loc[df[col].isnull() == True].sort_values(by = \"carat\", ascending = False).index)\n",
    "    for i in index_list:\n",
    "        carat_value = df.loc[i, \"carat\"]\n",
    "        new_value = carat[carat_value]\n",
    "        df.loc[i, col] = new_value\n",
    "        print(\"carat: {0} / median {1} value: {2}\".format(carat_value, col, new_value))\n",
    "    return df.iloc[index_list].style.applymap(lambda x: \"background-color: limegreen\", subset = col).format(format_dict)"
   ]
  },
  {
   "cell_type": "code",
   "execution_count": 16,
   "id": "92e6b64a",
   "metadata": {},
   "outputs": [
    {
     "name": "stdout",
     "output_type": "stream",
     "text": [
      "carat: 2.25 / median x value: 8.47\n",
      "carat: 1.56 / median x value: 7.46\n",
      "carat: 1.2 / median x value: 6.78\n",
      "carat: 1.14 / median x value: 6.71\n",
      "carat: 1.07 / median x value: 6.57\n",
      "carat: 1.0 / median x value: 6.38\n",
      "carat: 0.71 / median x value: 5.72\n"
     ]
    },
    {
     "data": {
      "text/html": [
       "<style  type=\"text/css\" >\n",
       "#T_77dc5_row0_col7,#T_77dc5_row1_col7,#T_77dc5_row2_col7,#T_77dc5_row3_col7,#T_77dc5_row4_col7,#T_77dc5_row5_col7,#T_77dc5_row6_col7{\n",
       "            background-color:  limegreen;\n",
       "        }</style><table id=\"T_77dc5_\" ><thead>    <tr>        <th class=\"blank level0\" ></th>        <th class=\"col_heading level0 col0\" >carat</th>        <th class=\"col_heading level0 col1\" >cut</th>        <th class=\"col_heading level0 col2\" >color</th>        <th class=\"col_heading level0 col3\" >clarity</th>        <th class=\"col_heading level0 col4\" >depth</th>        <th class=\"col_heading level0 col5\" >table</th>        <th class=\"col_heading level0 col6\" >price</th>        <th class=\"col_heading level0 col7\" >x</th>        <th class=\"col_heading level0 col8\" >y</th>        <th class=\"col_heading level0 col9\" >z</th>    </tr></thead><tbody>\n",
       "                <tr>\n",
       "                        <th id=\"T_77dc5_level0_row0\" class=\"row_heading level0 row0\" >27364</th>\n",
       "                        <td id=\"T_77dc5_row0_col0\" class=\"data row0 col0\" >2.25</td>\n",
       "                        <td id=\"T_77dc5_row0_col1\" class=\"data row0 col1\" >Premium</td>\n",
       "                        <td id=\"T_77dc5_row0_col2\" class=\"data row0 col2\" >H</td>\n",
       "                        <td id=\"T_77dc5_row0_col3\" class=\"data row0 col3\" >SI2</td>\n",
       "                        <td id=\"T_77dc5_row0_col4\" class=\"data row0 col4\" >62.8</td>\n",
       "                        <td id=\"T_77dc5_row0_col5\" class=\"data row0 col5\" >59.0</td>\n",
       "                        <td id=\"T_77dc5_row0_col6\" class=\"data row0 col6\" >18034</td>\n",
       "                        <td id=\"T_77dc5_row0_col7\" class=\"data row0 col7\" >8.47</td>\n",
       "                        <td id=\"T_77dc5_row0_col8\" class=\"data row0 col8\" >nan</td>\n",
       "                        <td id=\"T_77dc5_row0_col9\" class=\"data row0 col9\" >nan</td>\n",
       "            </tr>\n",
       "            <tr>\n",
       "                        <th id=\"T_77dc5_level0_row1\" class=\"row_heading level0 row1\" >24464</th>\n",
       "                        <td id=\"T_77dc5_row1_col0\" class=\"data row1 col0\" >1.56</td>\n",
       "                        <td id=\"T_77dc5_row1_col1\" class=\"data row1 col1\" >Ideal</td>\n",
       "                        <td id=\"T_77dc5_row1_col2\" class=\"data row1 col2\" >G</td>\n",
       "                        <td id=\"T_77dc5_row1_col3\" class=\"data row1 col3\" >VS2</td>\n",
       "                        <td id=\"T_77dc5_row1_col4\" class=\"data row1 col4\" >62.2</td>\n",
       "                        <td id=\"T_77dc5_row1_col5\" class=\"data row1 col5\" >54.0</td>\n",
       "                        <td id=\"T_77dc5_row1_col6\" class=\"data row1 col6\" >12800</td>\n",
       "                        <td id=\"T_77dc5_row1_col7\" class=\"data row1 col7\" >7.46</td>\n",
       "                        <td id=\"T_77dc5_row1_col8\" class=\"data row1 col8\" >nan</td>\n",
       "                        <td id=\"T_77dc5_row1_col9\" class=\"data row1 col9\" >nan</td>\n",
       "            </tr>\n",
       "            <tr>\n",
       "                        <th id=\"T_77dc5_level0_row2\" class=\"row_heading level0 row2\" >26183</th>\n",
       "                        <td id=\"T_77dc5_row2_col0\" class=\"data row2 col0\" >1.20</td>\n",
       "                        <td id=\"T_77dc5_row2_col1\" class=\"data row2 col1\" >Premium</td>\n",
       "                        <td id=\"T_77dc5_row2_col2\" class=\"data row2 col2\" >D</td>\n",
       "                        <td id=\"T_77dc5_row2_col3\" class=\"data row2 col3\" >VVS1</td>\n",
       "                        <td id=\"T_77dc5_row2_col4\" class=\"data row2 col4\" >62.1</td>\n",
       "                        <td id=\"T_77dc5_row2_col5\" class=\"data row2 col5\" >59.0</td>\n",
       "                        <td id=\"T_77dc5_row2_col6\" class=\"data row2 col6\" >15686</td>\n",
       "                        <td id=\"T_77dc5_row2_col7\" class=\"data row2 col7\" >6.78</td>\n",
       "                        <td id=\"T_77dc5_row2_col8\" class=\"data row2 col8\" >nan</td>\n",
       "                        <td id=\"T_77dc5_row2_col9\" class=\"data row2 col9\" >nan</td>\n",
       "            </tr>\n",
       "            <tr>\n",
       "                        <th id=\"T_77dc5_level0_row3\" class=\"row_heading level0 row3\" >15914</th>\n",
       "                        <td id=\"T_77dc5_row3_col0\" class=\"data row3 col0\" >1.14</td>\n",
       "                        <td id=\"T_77dc5_row3_col1\" class=\"data row3 col1\" >Fair</td>\n",
       "                        <td id=\"T_77dc5_row3_col2\" class=\"data row3 col2\" >G</td>\n",
       "                        <td id=\"T_77dc5_row3_col3\" class=\"data row3 col3\" >VS1</td>\n",
       "                        <td id=\"T_77dc5_row3_col4\" class=\"data row3 col4\" >57.5</td>\n",
       "                        <td id=\"T_77dc5_row3_col5\" class=\"data row3 col5\" >67.0</td>\n",
       "                        <td id=\"T_77dc5_row3_col6\" class=\"data row3 col6\" >6381</td>\n",
       "                        <td id=\"T_77dc5_row3_col7\" class=\"data row3 col7\" >6.71</td>\n",
       "                        <td id=\"T_77dc5_row3_col8\" class=\"data row3 col8\" >nan</td>\n",
       "                        <td id=\"T_77dc5_row3_col9\" class=\"data row3 col9\" >nan</td>\n",
       "            </tr>\n",
       "            <tr>\n",
       "                        <th id=\"T_77dc5_level0_row4\" class=\"row_heading level0 row4\" >11156</th>\n",
       "                        <td id=\"T_77dc5_row4_col0\" class=\"data row4 col0\" >1.07</td>\n",
       "                        <td id=\"T_77dc5_row4_col1\" class=\"data row4 col1\" >Ideal</td>\n",
       "                        <td id=\"T_77dc5_row4_col2\" class=\"data row4 col2\" >F</td>\n",
       "                        <td id=\"T_77dc5_row4_col3\" class=\"data row4 col3\" >SI2</td>\n",
       "                        <td id=\"T_77dc5_row4_col4\" class=\"data row4 col4\" >61.6</td>\n",
       "                        <td id=\"T_77dc5_row4_col5\" class=\"data row4 col5\" >56.0</td>\n",
       "                        <td id=\"T_77dc5_row4_col6\" class=\"data row4 col6\" >4954</td>\n",
       "                        <td id=\"T_77dc5_row4_col7\" class=\"data row4 col7\" >6.57</td>\n",
       "                        <td id=\"T_77dc5_row4_col8\" class=\"data row4 col8\" >6.62</td>\n",
       "                        <td id=\"T_77dc5_row4_col9\" class=\"data row4 col9\" >nan</td>\n",
       "            </tr>\n",
       "            <tr>\n",
       "                        <th id=\"T_77dc5_level0_row5\" class=\"row_heading level0 row5\" >11935</th>\n",
       "                        <td id=\"T_77dc5_row5_col0\" class=\"data row5 col0\" >1.00</td>\n",
       "                        <td id=\"T_77dc5_row5_col1\" class=\"data row5 col1\" >Very Good</td>\n",
       "                        <td id=\"T_77dc5_row5_col2\" class=\"data row5 col2\" >H</td>\n",
       "                        <td id=\"T_77dc5_row5_col3\" class=\"data row5 col3\" >VS2</td>\n",
       "                        <td id=\"T_77dc5_row5_col4\" class=\"data row5 col4\" >63.3</td>\n",
       "                        <td id=\"T_77dc5_row5_col5\" class=\"data row5 col5\" >53.0</td>\n",
       "                        <td id=\"T_77dc5_row5_col6\" class=\"data row5 col6\" >5139</td>\n",
       "                        <td id=\"T_77dc5_row5_col7\" class=\"data row5 col7\" >6.38</td>\n",
       "                        <td id=\"T_77dc5_row5_col8\" class=\"data row5 col8\" >nan</td>\n",
       "                        <td id=\"T_77dc5_row5_col9\" class=\"data row5 col9\" >nan</td>\n",
       "            </tr>\n",
       "            <tr>\n",
       "                        <th id=\"T_77dc5_level0_row6\" class=\"row_heading level0 row6\" >49413</th>\n",
       "                        <td id=\"T_77dc5_row6_col0\" class=\"data row6 col0\" >0.71</td>\n",
       "                        <td id=\"T_77dc5_row6_col1\" class=\"data row6 col1\" >Good</td>\n",
       "                        <td id=\"T_77dc5_row6_col2\" class=\"data row6 col2\" >F</td>\n",
       "                        <td id=\"T_77dc5_row6_col3\" class=\"data row6 col3\" >SI2</td>\n",
       "                        <td id=\"T_77dc5_row6_col4\" class=\"data row6 col4\" >64.1</td>\n",
       "                        <td id=\"T_77dc5_row6_col5\" class=\"data row6 col5\" >60.0</td>\n",
       "                        <td id=\"T_77dc5_row6_col6\" class=\"data row6 col6\" >2130</td>\n",
       "                        <td id=\"T_77dc5_row6_col7\" class=\"data row6 col7\" >5.72</td>\n",
       "                        <td id=\"T_77dc5_row6_col8\" class=\"data row6 col8\" >nan</td>\n",
       "                        <td id=\"T_77dc5_row6_col9\" class=\"data row6 col9\" >nan</td>\n",
       "            </tr>\n",
       "    </tbody></table>"
      ],
      "text/plain": [
       "<pandas.io.formats.style.Styler at 0x20d1183e5e0>"
      ]
     },
     "execution_count": 16,
     "metadata": {},
     "output_type": "execute_result"
    }
   ],
   "source": [
    "# Fixing \"x\" column\n",
    "fill_nan_values(\"x\")"
   ]
  },
  {
   "cell_type": "code",
   "execution_count": 17,
   "id": "bedfd4cd",
   "metadata": {},
   "outputs": [
    {
     "name": "stdout",
     "output_type": "stream",
     "text": [
      "carat: 2.25 / median y value: 8.39\n",
      "carat: 1.56 / median y value: 7.46\n",
      "carat: 1.2 / median y value: 6.79\n",
      "carat: 1.14 / median y value: 6.72\n",
      "carat: 1.0 / median y value: 6.38\n",
      "carat: 0.71 / median y value: 5.73\n"
     ]
    },
    {
     "data": {
      "text/html": [
       "<style  type=\"text/css\" >\n",
       "#T_39448_row0_col8,#T_39448_row1_col8,#T_39448_row2_col8,#T_39448_row3_col8,#T_39448_row4_col8,#T_39448_row5_col8{\n",
       "            background-color:  limegreen;\n",
       "        }</style><table id=\"T_39448_\" ><thead>    <tr>        <th class=\"blank level0\" ></th>        <th class=\"col_heading level0 col0\" >carat</th>        <th class=\"col_heading level0 col1\" >cut</th>        <th class=\"col_heading level0 col2\" >color</th>        <th class=\"col_heading level0 col3\" >clarity</th>        <th class=\"col_heading level0 col4\" >depth</th>        <th class=\"col_heading level0 col5\" >table</th>        <th class=\"col_heading level0 col6\" >price</th>        <th class=\"col_heading level0 col7\" >x</th>        <th class=\"col_heading level0 col8\" >y</th>        <th class=\"col_heading level0 col9\" >z</th>    </tr></thead><tbody>\n",
       "                <tr>\n",
       "                        <th id=\"T_39448_level0_row0\" class=\"row_heading level0 row0\" >27364</th>\n",
       "                        <td id=\"T_39448_row0_col0\" class=\"data row0 col0\" >2.25</td>\n",
       "                        <td id=\"T_39448_row0_col1\" class=\"data row0 col1\" >Premium</td>\n",
       "                        <td id=\"T_39448_row0_col2\" class=\"data row0 col2\" >H</td>\n",
       "                        <td id=\"T_39448_row0_col3\" class=\"data row0 col3\" >SI2</td>\n",
       "                        <td id=\"T_39448_row0_col4\" class=\"data row0 col4\" >62.8</td>\n",
       "                        <td id=\"T_39448_row0_col5\" class=\"data row0 col5\" >59.0</td>\n",
       "                        <td id=\"T_39448_row0_col6\" class=\"data row0 col6\" >18034</td>\n",
       "                        <td id=\"T_39448_row0_col7\" class=\"data row0 col7\" >8.47</td>\n",
       "                        <td id=\"T_39448_row0_col8\" class=\"data row0 col8\" >8.39</td>\n",
       "                        <td id=\"T_39448_row0_col9\" class=\"data row0 col9\" >nan</td>\n",
       "            </tr>\n",
       "            <tr>\n",
       "                        <th id=\"T_39448_level0_row1\" class=\"row_heading level0 row1\" >24464</th>\n",
       "                        <td id=\"T_39448_row1_col0\" class=\"data row1 col0\" >1.56</td>\n",
       "                        <td id=\"T_39448_row1_col1\" class=\"data row1 col1\" >Ideal</td>\n",
       "                        <td id=\"T_39448_row1_col2\" class=\"data row1 col2\" >G</td>\n",
       "                        <td id=\"T_39448_row1_col3\" class=\"data row1 col3\" >VS2</td>\n",
       "                        <td id=\"T_39448_row1_col4\" class=\"data row1 col4\" >62.2</td>\n",
       "                        <td id=\"T_39448_row1_col5\" class=\"data row1 col5\" >54.0</td>\n",
       "                        <td id=\"T_39448_row1_col6\" class=\"data row1 col6\" >12800</td>\n",
       "                        <td id=\"T_39448_row1_col7\" class=\"data row1 col7\" >7.46</td>\n",
       "                        <td id=\"T_39448_row1_col8\" class=\"data row1 col8\" >7.46</td>\n",
       "                        <td id=\"T_39448_row1_col9\" class=\"data row1 col9\" >nan</td>\n",
       "            </tr>\n",
       "            <tr>\n",
       "                        <th id=\"T_39448_level0_row2\" class=\"row_heading level0 row2\" >26183</th>\n",
       "                        <td id=\"T_39448_row2_col0\" class=\"data row2 col0\" >1.20</td>\n",
       "                        <td id=\"T_39448_row2_col1\" class=\"data row2 col1\" >Premium</td>\n",
       "                        <td id=\"T_39448_row2_col2\" class=\"data row2 col2\" >D</td>\n",
       "                        <td id=\"T_39448_row2_col3\" class=\"data row2 col3\" >VVS1</td>\n",
       "                        <td id=\"T_39448_row2_col4\" class=\"data row2 col4\" >62.1</td>\n",
       "                        <td id=\"T_39448_row2_col5\" class=\"data row2 col5\" >59.0</td>\n",
       "                        <td id=\"T_39448_row2_col6\" class=\"data row2 col6\" >15686</td>\n",
       "                        <td id=\"T_39448_row2_col7\" class=\"data row2 col7\" >6.78</td>\n",
       "                        <td id=\"T_39448_row2_col8\" class=\"data row2 col8\" >6.79</td>\n",
       "                        <td id=\"T_39448_row2_col9\" class=\"data row2 col9\" >nan</td>\n",
       "            </tr>\n",
       "            <tr>\n",
       "                        <th id=\"T_39448_level0_row3\" class=\"row_heading level0 row3\" >15914</th>\n",
       "                        <td id=\"T_39448_row3_col0\" class=\"data row3 col0\" >1.14</td>\n",
       "                        <td id=\"T_39448_row3_col1\" class=\"data row3 col1\" >Fair</td>\n",
       "                        <td id=\"T_39448_row3_col2\" class=\"data row3 col2\" >G</td>\n",
       "                        <td id=\"T_39448_row3_col3\" class=\"data row3 col3\" >VS1</td>\n",
       "                        <td id=\"T_39448_row3_col4\" class=\"data row3 col4\" >57.5</td>\n",
       "                        <td id=\"T_39448_row3_col5\" class=\"data row3 col5\" >67.0</td>\n",
       "                        <td id=\"T_39448_row3_col6\" class=\"data row3 col6\" >6381</td>\n",
       "                        <td id=\"T_39448_row3_col7\" class=\"data row3 col7\" >6.71</td>\n",
       "                        <td id=\"T_39448_row3_col8\" class=\"data row3 col8\" >6.72</td>\n",
       "                        <td id=\"T_39448_row3_col9\" class=\"data row3 col9\" >nan</td>\n",
       "            </tr>\n",
       "            <tr>\n",
       "                        <th id=\"T_39448_level0_row4\" class=\"row_heading level0 row4\" >11935</th>\n",
       "                        <td id=\"T_39448_row4_col0\" class=\"data row4 col0\" >1.00</td>\n",
       "                        <td id=\"T_39448_row4_col1\" class=\"data row4 col1\" >Very Good</td>\n",
       "                        <td id=\"T_39448_row4_col2\" class=\"data row4 col2\" >H</td>\n",
       "                        <td id=\"T_39448_row4_col3\" class=\"data row4 col3\" >VS2</td>\n",
       "                        <td id=\"T_39448_row4_col4\" class=\"data row4 col4\" >63.3</td>\n",
       "                        <td id=\"T_39448_row4_col5\" class=\"data row4 col5\" >53.0</td>\n",
       "                        <td id=\"T_39448_row4_col6\" class=\"data row4 col6\" >5139</td>\n",
       "                        <td id=\"T_39448_row4_col7\" class=\"data row4 col7\" >6.38</td>\n",
       "                        <td id=\"T_39448_row4_col8\" class=\"data row4 col8\" >6.38</td>\n",
       "                        <td id=\"T_39448_row4_col9\" class=\"data row4 col9\" >nan</td>\n",
       "            </tr>\n",
       "            <tr>\n",
       "                        <th id=\"T_39448_level0_row5\" class=\"row_heading level0 row5\" >49413</th>\n",
       "                        <td id=\"T_39448_row5_col0\" class=\"data row5 col0\" >0.71</td>\n",
       "                        <td id=\"T_39448_row5_col1\" class=\"data row5 col1\" >Good</td>\n",
       "                        <td id=\"T_39448_row5_col2\" class=\"data row5 col2\" >F</td>\n",
       "                        <td id=\"T_39448_row5_col3\" class=\"data row5 col3\" >SI2</td>\n",
       "                        <td id=\"T_39448_row5_col4\" class=\"data row5 col4\" >64.1</td>\n",
       "                        <td id=\"T_39448_row5_col5\" class=\"data row5 col5\" >60.0</td>\n",
       "                        <td id=\"T_39448_row5_col6\" class=\"data row5 col6\" >2130</td>\n",
       "                        <td id=\"T_39448_row5_col7\" class=\"data row5 col7\" >5.72</td>\n",
       "                        <td id=\"T_39448_row5_col8\" class=\"data row5 col8\" >5.73</td>\n",
       "                        <td id=\"T_39448_row5_col9\" class=\"data row5 col9\" >nan</td>\n",
       "            </tr>\n",
       "    </tbody></table>"
      ],
      "text/plain": [
       "<pandas.io.formats.style.Styler at 0x20d55461cd0>"
      ]
     },
     "execution_count": 17,
     "metadata": {},
     "output_type": "execute_result"
    }
   ],
   "source": [
    "# Fixing \"y\" column\n",
    "fill_nan_values(\"y\")"
   ]
  },
  {
   "cell_type": "code",
   "execution_count": 18,
   "id": "cc651cef",
   "metadata": {},
   "outputs": [
    {
     "name": "stdout",
     "output_type": "stream",
     "text": [
      "carat: 2.8 / median z value: 5.5\n",
      "carat: 2.25 / median z value: 5.19\n",
      "carat: 2.25 / median z value: 5.19\n",
      "carat: 2.2 / median z value: 5.17\n",
      "carat: 2.18 / median z value: 5.16\n",
      "carat: 2.02 / median z value: 5.0\n",
      "carat: 1.56 / median z value: 4.59\n",
      "carat: 1.5 / median z value: 4.53\n",
      "carat: 1.2 / median z value: 4.21\n",
      "carat: 1.15 / median z value: 4.16\n",
      "carat: 1.14 / median z value: 4.14\n",
      "carat: 1.12 / median z value: 4.11\n",
      "carat: 1.1 / median z value: 4.09\n",
      "carat: 1.07 / median z value: 4.05\n",
      "carat: 1.01 / median z value: 3.98\n",
      "carat: 1.01 / median z value: 3.98\n",
      "carat: 1.0 / median z value: 3.96\n",
      "carat: 1.0 / median z value: 3.96\n",
      "carat: 0.71 / median z value: 3.54\n"
     ]
    },
    {
     "data": {
      "text/html": [
       "<style  type=\"text/css\" >\n",
       "#T_40e88_row0_col9,#T_40e88_row1_col9,#T_40e88_row2_col9,#T_40e88_row3_col9,#T_40e88_row4_col9,#T_40e88_row5_col9,#T_40e88_row6_col9,#T_40e88_row7_col9,#T_40e88_row8_col9,#T_40e88_row9_col9,#T_40e88_row10_col9,#T_40e88_row11_col9,#T_40e88_row12_col9,#T_40e88_row13_col9,#T_40e88_row14_col9,#T_40e88_row15_col9,#T_40e88_row16_col9,#T_40e88_row17_col9,#T_40e88_row18_col9{\n",
       "            background-color:  limegreen;\n",
       "        }</style><table id=\"T_40e88_\" ><thead>    <tr>        <th class=\"blank level0\" ></th>        <th class=\"col_heading level0 col0\" >carat</th>        <th class=\"col_heading level0 col1\" >cut</th>        <th class=\"col_heading level0 col2\" >color</th>        <th class=\"col_heading level0 col3\" >clarity</th>        <th class=\"col_heading level0 col4\" >depth</th>        <th class=\"col_heading level0 col5\" >table</th>        <th class=\"col_heading level0 col6\" >price</th>        <th class=\"col_heading level0 col7\" >x</th>        <th class=\"col_heading level0 col8\" >y</th>        <th class=\"col_heading level0 col9\" >z</th>    </tr></thead><tbody>\n",
       "                <tr>\n",
       "                        <th id=\"T_40e88_level0_row0\" class=\"row_heading level0 row0\" >27672</th>\n",
       "                        <td id=\"T_40e88_row0_col0\" class=\"data row0 col0\" >2.80</td>\n",
       "                        <td id=\"T_40e88_row0_col1\" class=\"data row0 col1\" >Good</td>\n",
       "                        <td id=\"T_40e88_row0_col2\" class=\"data row0 col2\" >G</td>\n",
       "                        <td id=\"T_40e88_row0_col3\" class=\"data row0 col3\" >SI2</td>\n",
       "                        <td id=\"T_40e88_row0_col4\" class=\"data row0 col4\" >63.8</td>\n",
       "                        <td id=\"T_40e88_row0_col5\" class=\"data row0 col5\" >58.0</td>\n",
       "                        <td id=\"T_40e88_row0_col6\" class=\"data row0 col6\" >18788</td>\n",
       "                        <td id=\"T_40e88_row0_col7\" class=\"data row0 col7\" >8.90</td>\n",
       "                        <td id=\"T_40e88_row0_col8\" class=\"data row0 col8\" >8.85</td>\n",
       "                        <td id=\"T_40e88_row0_col9\" class=\"data row0 col9\" >5.50</td>\n",
       "            </tr>\n",
       "            <tr>\n",
       "                        <th id=\"T_40e88_level0_row1\" class=\"row_heading level0 row1\" >26063</th>\n",
       "                        <td id=\"T_40e88_row1_col0\" class=\"data row1 col0\" >2.25</td>\n",
       "                        <td id=\"T_40e88_row1_col1\" class=\"data row1 col1\" >Premium</td>\n",
       "                        <td id=\"T_40e88_row1_col2\" class=\"data row1 col2\" >I</td>\n",
       "                        <td id=\"T_40e88_row1_col3\" class=\"data row1 col3\" >SI1</td>\n",
       "                        <td id=\"T_40e88_row1_col4\" class=\"data row1 col4\" >61.3</td>\n",
       "                        <td id=\"T_40e88_row1_col5\" class=\"data row1 col5\" >58.0</td>\n",
       "                        <td id=\"T_40e88_row1_col6\" class=\"data row1 col6\" >15397</td>\n",
       "                        <td id=\"T_40e88_row1_col7\" class=\"data row1 col7\" >8.52</td>\n",
       "                        <td id=\"T_40e88_row1_col8\" class=\"data row1 col8\" >8.42</td>\n",
       "                        <td id=\"T_40e88_row1_col9\" class=\"data row1 col9\" >5.19</td>\n",
       "            </tr>\n",
       "            <tr>\n",
       "                        <th id=\"T_40e88_level0_row2\" class=\"row_heading level0 row2\" >27364</th>\n",
       "                        <td id=\"T_40e88_row2_col0\" class=\"data row2 col0\" >2.25</td>\n",
       "                        <td id=\"T_40e88_row2_col1\" class=\"data row2 col1\" >Premium</td>\n",
       "                        <td id=\"T_40e88_row2_col2\" class=\"data row2 col2\" >H</td>\n",
       "                        <td id=\"T_40e88_row2_col3\" class=\"data row2 col3\" >SI2</td>\n",
       "                        <td id=\"T_40e88_row2_col4\" class=\"data row2 col4\" >62.8</td>\n",
       "                        <td id=\"T_40e88_row2_col5\" class=\"data row2 col5\" >59.0</td>\n",
       "                        <td id=\"T_40e88_row2_col6\" class=\"data row2 col6\" >18034</td>\n",
       "                        <td id=\"T_40e88_row2_col7\" class=\"data row2 col7\" >8.47</td>\n",
       "                        <td id=\"T_40e88_row2_col8\" class=\"data row2 col8\" >8.39</td>\n",
       "                        <td id=\"T_40e88_row2_col9\" class=\"data row2 col9\" >5.19</td>\n",
       "            </tr>\n",
       "            <tr>\n",
       "                        <th id=\"T_40e88_level0_row3\" class=\"row_heading level0 row3\" >27047</th>\n",
       "                        <td id=\"T_40e88_row3_col0\" class=\"data row3 col0\" >2.20</td>\n",
       "                        <td id=\"T_40e88_row3_col1\" class=\"data row3 col1\" >Premium</td>\n",
       "                        <td id=\"T_40e88_row3_col2\" class=\"data row3 col2\" >H</td>\n",
       "                        <td id=\"T_40e88_row3_col3\" class=\"data row3 col3\" >SI1</td>\n",
       "                        <td id=\"T_40e88_row3_col4\" class=\"data row3 col4\" >61.2</td>\n",
       "                        <td id=\"T_40e88_row3_col5\" class=\"data row3 col5\" >59.0</td>\n",
       "                        <td id=\"T_40e88_row3_col6\" class=\"data row3 col6\" >17265</td>\n",
       "                        <td id=\"T_40e88_row3_col7\" class=\"data row3 col7\" >8.42</td>\n",
       "                        <td id=\"T_40e88_row3_col8\" class=\"data row3 col8\" >8.37</td>\n",
       "                        <td id=\"T_40e88_row3_col9\" class=\"data row3 col9\" >5.17</td>\n",
       "            </tr>\n",
       "            <tr>\n",
       "                        <th id=\"T_40e88_level0_row4\" class=\"row_heading level0 row4\" >24338</th>\n",
       "                        <td id=\"T_40e88_row4_col0\" class=\"data row4 col0\" >2.18</td>\n",
       "                        <td id=\"T_40e88_row4_col1\" class=\"data row4 col1\" >Premium</td>\n",
       "                        <td id=\"T_40e88_row4_col2\" class=\"data row4 col2\" >H</td>\n",
       "                        <td id=\"T_40e88_row4_col3\" class=\"data row4 col3\" >SI2</td>\n",
       "                        <td id=\"T_40e88_row4_col4\" class=\"data row4 col4\" >59.4</td>\n",
       "                        <td id=\"T_40e88_row4_col5\" class=\"data row4 col5\" >61.0</td>\n",
       "                        <td id=\"T_40e88_row4_col6\" class=\"data row4 col6\" >12631</td>\n",
       "                        <td id=\"T_40e88_row4_col7\" class=\"data row4 col7\" >8.49</td>\n",
       "                        <td id=\"T_40e88_row4_col8\" class=\"data row4 col8\" >8.45</td>\n",
       "                        <td id=\"T_40e88_row4_col9\" class=\"data row4 col9\" >5.16</td>\n",
       "            </tr>\n",
       "            <tr>\n",
       "                        <th id=\"T_40e88_level0_row5\" class=\"row_heading level0 row5\" >27438</th>\n",
       "                        <td id=\"T_40e88_row5_col0\" class=\"data row5 col0\" >2.02</td>\n",
       "                        <td id=\"T_40e88_row5_col1\" class=\"data row5 col1\" >Premium</td>\n",
       "                        <td id=\"T_40e88_row5_col2\" class=\"data row5 col2\" >H</td>\n",
       "                        <td id=\"T_40e88_row5_col3\" class=\"data row5 col3\" >VS2</td>\n",
       "                        <td id=\"T_40e88_row5_col4\" class=\"data row5 col4\" >62.7</td>\n",
       "                        <td id=\"T_40e88_row5_col5\" class=\"data row5 col5\" >53.0</td>\n",
       "                        <td id=\"T_40e88_row5_col6\" class=\"data row5 col6\" >18207</td>\n",
       "                        <td id=\"T_40e88_row5_col7\" class=\"data row5 col7\" >8.02</td>\n",
       "                        <td id=\"T_40e88_row5_col8\" class=\"data row5 col8\" >7.95</td>\n",
       "                        <td id=\"T_40e88_row5_col9\" class=\"data row5 col9\" >5.00</td>\n",
       "            </tr>\n",
       "            <tr>\n",
       "                        <th id=\"T_40e88_level0_row6\" class=\"row_heading level0 row6\" >24464</th>\n",
       "                        <td id=\"T_40e88_row6_col0\" class=\"data row6 col0\" >1.56</td>\n",
       "                        <td id=\"T_40e88_row6_col1\" class=\"data row6 col1\" >Ideal</td>\n",
       "                        <td id=\"T_40e88_row6_col2\" class=\"data row6 col2\" >G</td>\n",
       "                        <td id=\"T_40e88_row6_col3\" class=\"data row6 col3\" >VS2</td>\n",
       "                        <td id=\"T_40e88_row6_col4\" class=\"data row6 col4\" >62.2</td>\n",
       "                        <td id=\"T_40e88_row6_col5\" class=\"data row6 col5\" >54.0</td>\n",
       "                        <td id=\"T_40e88_row6_col6\" class=\"data row6 col6\" >12800</td>\n",
       "                        <td id=\"T_40e88_row6_col7\" class=\"data row6 col7\" >7.46</td>\n",
       "                        <td id=\"T_40e88_row6_col8\" class=\"data row6 col8\" >7.46</td>\n",
       "                        <td id=\"T_40e88_row6_col9\" class=\"data row6 col9\" >4.59</td>\n",
       "            </tr>\n",
       "            <tr>\n",
       "                        <th id=\"T_40e88_level0_row7\" class=\"row_heading level0 row7\" >10145</th>\n",
       "                        <td id=\"T_40e88_row7_col0\" class=\"data row7 col0\" >1.50</td>\n",
       "                        <td id=\"T_40e88_row7_col1\" class=\"data row7 col1\" >Good</td>\n",
       "                        <td id=\"T_40e88_row7_col2\" class=\"data row7 col2\" >G</td>\n",
       "                        <td id=\"T_40e88_row7_col3\" class=\"data row7 col3\" >I1</td>\n",
       "                        <td id=\"T_40e88_row7_col4\" class=\"data row7 col4\" >64.0</td>\n",
       "                        <td id=\"T_40e88_row7_col5\" class=\"data row7 col5\" >61.0</td>\n",
       "                        <td id=\"T_40e88_row7_col6\" class=\"data row7 col6\" >4731</td>\n",
       "                        <td id=\"T_40e88_row7_col7\" class=\"data row7 col7\" >7.15</td>\n",
       "                        <td id=\"T_40e88_row7_col8\" class=\"data row7 col8\" >7.04</td>\n",
       "                        <td id=\"T_40e88_row7_col9\" class=\"data row7 col9\" >4.53</td>\n",
       "            </tr>\n",
       "            <tr>\n",
       "                        <th id=\"T_40e88_level0_row8\" class=\"row_heading level0 row8\" >26183</th>\n",
       "                        <td id=\"T_40e88_row8_col0\" class=\"data row8 col0\" >1.20</td>\n",
       "                        <td id=\"T_40e88_row8_col1\" class=\"data row8 col1\" >Premium</td>\n",
       "                        <td id=\"T_40e88_row8_col2\" class=\"data row8 col2\" >D</td>\n",
       "                        <td id=\"T_40e88_row8_col3\" class=\"data row8 col3\" >VVS1</td>\n",
       "                        <td id=\"T_40e88_row8_col4\" class=\"data row8 col4\" >62.1</td>\n",
       "                        <td id=\"T_40e88_row8_col5\" class=\"data row8 col5\" >59.0</td>\n",
       "                        <td id=\"T_40e88_row8_col6\" class=\"data row8 col6\" >15686</td>\n",
       "                        <td id=\"T_40e88_row8_col7\" class=\"data row8 col7\" >6.78</td>\n",
       "                        <td id=\"T_40e88_row8_col8\" class=\"data row8 col8\" >6.79</td>\n",
       "                        <td id=\"T_40e88_row8_col9\" class=\"data row8 col9\" >4.21</td>\n",
       "            </tr>\n",
       "            <tr>\n",
       "                        <th id=\"T_40e88_level0_row9\" class=\"row_heading level0 row9\" >13570</th>\n",
       "                        <td id=\"T_40e88_row9_col0\" class=\"data row9 col0\" >1.15</td>\n",
       "                        <td id=\"T_40e88_row9_col1\" class=\"data row9 col1\" >Ideal</td>\n",
       "                        <td id=\"T_40e88_row9_col2\" class=\"data row9 col2\" >G</td>\n",
       "                        <td id=\"T_40e88_row9_col3\" class=\"data row9 col3\" >VS2</td>\n",
       "                        <td id=\"T_40e88_row9_col4\" class=\"data row9 col4\" >59.2</td>\n",
       "                        <td id=\"T_40e88_row9_col5\" class=\"data row9 col5\" >56.0</td>\n",
       "                        <td id=\"T_40e88_row9_col6\" class=\"data row9 col6\" >5564</td>\n",
       "                        <td id=\"T_40e88_row9_col7\" class=\"data row9 col7\" >6.88</td>\n",
       "                        <td id=\"T_40e88_row9_col8\" class=\"data row9 col8\" >6.83</td>\n",
       "                        <td id=\"T_40e88_row9_col9\" class=\"data row9 col9\" >4.16</td>\n",
       "            </tr>\n",
       "            <tr>\n",
       "                        <th id=\"T_40e88_level0_row10\" class=\"row_heading level0 row10\" >15914</th>\n",
       "                        <td id=\"T_40e88_row10_col0\" class=\"data row10 col0\" >1.14</td>\n",
       "                        <td id=\"T_40e88_row10_col1\" class=\"data row10 col1\" >Fair</td>\n",
       "                        <td id=\"T_40e88_row10_col2\" class=\"data row10 col2\" >G</td>\n",
       "                        <td id=\"T_40e88_row10_col3\" class=\"data row10 col3\" >VS1</td>\n",
       "                        <td id=\"T_40e88_row10_col4\" class=\"data row10 col4\" >57.5</td>\n",
       "                        <td id=\"T_40e88_row10_col5\" class=\"data row10 col5\" >67.0</td>\n",
       "                        <td id=\"T_40e88_row10_col6\" class=\"data row10 col6\" >6381</td>\n",
       "                        <td id=\"T_40e88_row10_col7\" class=\"data row10 col7\" >6.71</td>\n",
       "                        <td id=\"T_40e88_row10_col8\" class=\"data row10 col8\" >6.72</td>\n",
       "                        <td id=\"T_40e88_row10_col9\" class=\"data row10 col9\" >4.14</td>\n",
       "            </tr>\n",
       "            <tr>\n",
       "                        <th id=\"T_40e88_level0_row11\" class=\"row_heading level0 row11\" >51361</th>\n",
       "                        <td id=\"T_40e88_row11_col0\" class=\"data row11 col0\" >1.12</td>\n",
       "                        <td id=\"T_40e88_row11_col1\" class=\"data row11 col1\" >Premium</td>\n",
       "                        <td id=\"T_40e88_row11_col2\" class=\"data row11 col2\" >G</td>\n",
       "                        <td id=\"T_40e88_row11_col3\" class=\"data row11 col3\" >I1</td>\n",
       "                        <td id=\"T_40e88_row11_col4\" class=\"data row11 col4\" >60.4</td>\n",
       "                        <td id=\"T_40e88_row11_col5\" class=\"data row11 col5\" >59.0</td>\n",
       "                        <td id=\"T_40e88_row11_col6\" class=\"data row11 col6\" >2383</td>\n",
       "                        <td id=\"T_40e88_row11_col7\" class=\"data row11 col7\" >6.71</td>\n",
       "                        <td id=\"T_40e88_row11_col8\" class=\"data row11 col8\" >6.67</td>\n",
       "                        <td id=\"T_40e88_row11_col9\" class=\"data row11 col9\" >4.11</td>\n",
       "            </tr>\n",
       "            <tr>\n",
       "                        <th id=\"T_40e88_level0_row12\" class=\"row_heading level0 row12\" >4778</th>\n",
       "                        <td id=\"T_40e88_row12_col0\" class=\"data row12 col0\" >1.10</td>\n",
       "                        <td id=\"T_40e88_row12_col1\" class=\"data row12 col1\" >Premium</td>\n",
       "                        <td id=\"T_40e88_row12_col2\" class=\"data row12 col2\" >G</td>\n",
       "                        <td id=\"T_40e88_row12_col3\" class=\"data row12 col3\" >SI2</td>\n",
       "                        <td id=\"T_40e88_row12_col4\" class=\"data row12 col4\" >63.0</td>\n",
       "                        <td id=\"T_40e88_row12_col5\" class=\"data row12 col5\" >59.0</td>\n",
       "                        <td id=\"T_40e88_row12_col6\" class=\"data row12 col6\" >3696</td>\n",
       "                        <td id=\"T_40e88_row12_col7\" class=\"data row12 col7\" >6.50</td>\n",
       "                        <td id=\"T_40e88_row12_col8\" class=\"data row12 col8\" >6.47</td>\n",
       "                        <td id=\"T_40e88_row12_col9\" class=\"data row12 col9\" >4.09</td>\n",
       "            </tr>\n",
       "            <tr>\n",
       "                        <th id=\"T_40e88_level0_row13\" class=\"row_heading level0 row13\" >11156</th>\n",
       "                        <td id=\"T_40e88_row13_col0\" class=\"data row13 col0\" >1.07</td>\n",
       "                        <td id=\"T_40e88_row13_col1\" class=\"data row13 col1\" >Ideal</td>\n",
       "                        <td id=\"T_40e88_row13_col2\" class=\"data row13 col2\" >F</td>\n",
       "                        <td id=\"T_40e88_row13_col3\" class=\"data row13 col3\" >SI2</td>\n",
       "                        <td id=\"T_40e88_row13_col4\" class=\"data row13 col4\" >61.6</td>\n",
       "                        <td id=\"T_40e88_row13_col5\" class=\"data row13 col5\" >56.0</td>\n",
       "                        <td id=\"T_40e88_row13_col6\" class=\"data row13 col6\" >4954</td>\n",
       "                        <td id=\"T_40e88_row13_col7\" class=\"data row13 col7\" >6.57</td>\n",
       "                        <td id=\"T_40e88_row13_col8\" class=\"data row13 col8\" >6.62</td>\n",
       "                        <td id=\"T_40e88_row13_col9\" class=\"data row13 col9\" >4.05</td>\n",
       "            </tr>\n",
       "            <tr>\n",
       "                        <th id=\"T_40e88_level0_row14\" class=\"row_heading level0 row14\" >2308</th>\n",
       "                        <td id=\"T_40e88_row14_col0\" class=\"data row14 col0\" >1.01</td>\n",
       "                        <td id=\"T_40e88_row14_col1\" class=\"data row14 col1\" >Premium</td>\n",
       "                        <td id=\"T_40e88_row14_col2\" class=\"data row14 col2\" >H</td>\n",
       "                        <td id=\"T_40e88_row14_col3\" class=\"data row14 col3\" >I1</td>\n",
       "                        <td id=\"T_40e88_row14_col4\" class=\"data row14 col4\" >58.1</td>\n",
       "                        <td id=\"T_40e88_row14_col5\" class=\"data row14 col5\" >59.0</td>\n",
       "                        <td id=\"T_40e88_row14_col6\" class=\"data row14 col6\" >3167</td>\n",
       "                        <td id=\"T_40e88_row14_col7\" class=\"data row14 col7\" >6.66</td>\n",
       "                        <td id=\"T_40e88_row14_col8\" class=\"data row14 col8\" >6.60</td>\n",
       "                        <td id=\"T_40e88_row14_col9\" class=\"data row14 col9\" >3.98</td>\n",
       "            </tr>\n",
       "            <tr>\n",
       "                        <th id=\"T_40e88_level0_row15\" class=\"row_heading level0 row15\" >5457</th>\n",
       "                        <td id=\"T_40e88_row15_col0\" class=\"data row15 col0\" >1.01</td>\n",
       "                        <td id=\"T_40e88_row15_col1\" class=\"data row15 col1\" >Premium</td>\n",
       "                        <td id=\"T_40e88_row15_col2\" class=\"data row15 col2\" >F</td>\n",
       "                        <td id=\"T_40e88_row15_col3\" class=\"data row15 col3\" >SI2</td>\n",
       "                        <td id=\"T_40e88_row15_col4\" class=\"data row15 col4\" >59.2</td>\n",
       "                        <td id=\"T_40e88_row15_col5\" class=\"data row15 col5\" >58.0</td>\n",
       "                        <td id=\"T_40e88_row15_col6\" class=\"data row15 col6\" >3837</td>\n",
       "                        <td id=\"T_40e88_row15_col7\" class=\"data row15 col7\" >6.50</td>\n",
       "                        <td id=\"T_40e88_row15_col8\" class=\"data row15 col8\" >6.47</td>\n",
       "                        <td id=\"T_40e88_row15_col9\" class=\"data row15 col9\" >3.98</td>\n",
       "            </tr>\n",
       "            <tr>\n",
       "                        <th id=\"T_40e88_level0_row16\" class=\"row_heading level0 row16\" >11935</th>\n",
       "                        <td id=\"T_40e88_row16_col0\" class=\"data row16 col0\" >1.00</td>\n",
       "                        <td id=\"T_40e88_row16_col1\" class=\"data row16 col1\" >Very Good</td>\n",
       "                        <td id=\"T_40e88_row16_col2\" class=\"data row16 col2\" >H</td>\n",
       "                        <td id=\"T_40e88_row16_col3\" class=\"data row16 col3\" >VS2</td>\n",
       "                        <td id=\"T_40e88_row16_col4\" class=\"data row16 col4\" >63.3</td>\n",
       "                        <td id=\"T_40e88_row16_col5\" class=\"data row16 col5\" >53.0</td>\n",
       "                        <td id=\"T_40e88_row16_col6\" class=\"data row16 col6\" >5139</td>\n",
       "                        <td id=\"T_40e88_row16_col7\" class=\"data row16 col7\" >6.38</td>\n",
       "                        <td id=\"T_40e88_row16_col8\" class=\"data row16 col8\" >6.38</td>\n",
       "                        <td id=\"T_40e88_row16_col9\" class=\"data row16 col9\" >3.96</td>\n",
       "            </tr>\n",
       "            <tr>\n",
       "                        <th id=\"T_40e88_level0_row17\" class=\"row_heading level0 row17\" >2201</th>\n",
       "                        <td id=\"T_40e88_row17_col0\" class=\"data row17 col0\" >1.00</td>\n",
       "                        <td id=\"T_40e88_row17_col1\" class=\"data row17 col1\" >Premium</td>\n",
       "                        <td id=\"T_40e88_row17_col2\" class=\"data row17 col2\" >G</td>\n",
       "                        <td id=\"T_40e88_row17_col3\" class=\"data row17 col3\" >SI2</td>\n",
       "                        <td id=\"T_40e88_row17_col4\" class=\"data row17 col4\" >59.1</td>\n",
       "                        <td id=\"T_40e88_row17_col5\" class=\"data row17 col5\" >59.0</td>\n",
       "                        <td id=\"T_40e88_row17_col6\" class=\"data row17 col6\" >3142</td>\n",
       "                        <td id=\"T_40e88_row17_col7\" class=\"data row17 col7\" >6.55</td>\n",
       "                        <td id=\"T_40e88_row17_col8\" class=\"data row17 col8\" >6.48</td>\n",
       "                        <td id=\"T_40e88_row17_col9\" class=\"data row17 col9\" >3.96</td>\n",
       "            </tr>\n",
       "            <tr>\n",
       "                        <th id=\"T_40e88_level0_row18\" class=\"row_heading level0 row18\" >49413</th>\n",
       "                        <td id=\"T_40e88_row18_col0\" class=\"data row18 col0\" >0.71</td>\n",
       "                        <td id=\"T_40e88_row18_col1\" class=\"data row18 col1\" >Good</td>\n",
       "                        <td id=\"T_40e88_row18_col2\" class=\"data row18 col2\" >F</td>\n",
       "                        <td id=\"T_40e88_row18_col3\" class=\"data row18 col3\" >SI2</td>\n",
       "                        <td id=\"T_40e88_row18_col4\" class=\"data row18 col4\" >64.1</td>\n",
       "                        <td id=\"T_40e88_row18_col5\" class=\"data row18 col5\" >60.0</td>\n",
       "                        <td id=\"T_40e88_row18_col6\" class=\"data row18 col6\" >2130</td>\n",
       "                        <td id=\"T_40e88_row18_col7\" class=\"data row18 col7\" >5.72</td>\n",
       "                        <td id=\"T_40e88_row18_col8\" class=\"data row18 col8\" >5.73</td>\n",
       "                        <td id=\"T_40e88_row18_col9\" class=\"data row18 col9\" >3.54</td>\n",
       "            </tr>\n",
       "    </tbody></table>"
      ],
      "text/plain": [
       "<pandas.io.formats.style.Styler at 0x20d55eaf760>"
      ]
     },
     "execution_count": 18,
     "metadata": {},
     "output_type": "execute_result"
    }
   ],
   "source": [
    "# Fixing \"z\" column\n",
    "fill_nan_values(\"z\")"
   ]
  },
  {
   "cell_type": "code",
   "execution_count": 19,
   "id": "dc13fe98",
   "metadata": {},
   "outputs": [],
   "source": [
    "cut_palette = [\"darkturquoise\", \"lightskyblue\", \"paleturquoise\", \"lightcyan\", \"azure\"]\n",
    "color_palette = [\"cadetblue\", \"deepskyblue\", \"darkturquoise\", \"lightskyblue\", \"paleturquoise\", \"lightcyan\", \"azure\"]\n",
    "clarity_palette = [\"cadetblue\", \"deepskyblue\", \"darkturquoise\", \"lightskyblue\", \"paleturquoise\", \"lightcyan\", \"azure\", \"ghostwhite\"]\n",
    "\n",
    "df[\"cut\"] = pd.Categorical(df[\"cut\"], categories = [\"Ideal\", \"Premium\", \"Very Good\", \"Good\", \"Fair\"], ordered = True)\n",
    "df[\"color\"] = pd.Categorical(df[\"color\"], categories = [\"D\", \"E\", \"F\", \"G\", \"H\", \"I\", \"J\"], ordered = True)\n",
    "df[\"clarity\"] = pd.Categorical(df[\"clarity\"], categories = [\"IF\", \"VVS1\", \"VVS2\", \"VS1\", \"VS2\", \"SI1\", \"SI2\", \"I1\"], ordered = True)"
   ]
  },
  {
   "cell_type": "code",
   "execution_count": 20,
   "id": "4eb6581e",
   "metadata": {},
   "outputs": [
    {
     "data": {
      "image/png": "[encoded data removed]",
      "text/plain": [
       "<Figure size 504x504 with 1 Axes>"
      ]
     },
     "metadata": {},
     "output_type": "display_data"
    }
   ],
   "source": [
    "df_cut = df[\"cut\"].value_counts()\n",
    "\n",
    "plt.figure(figsize = (7,7))\n",
    "plt.pie(data = df_cut, x = df_cut.values, labels = df_cut.index, autopct = \"%.2f%%\", pctdistance = 0.8, colors = cut_palette )\n",
    "circle = plt.Circle(xy = (0, 0), radius = 0.5, facecolor = 'white')\n",
    "plt.gca().add_artist(circle)\n",
    "plt.title(\"% of each Diamond Cut Quality\", size = 16)\n",
    "plt.show()"
   ]
  },
  {
   "cell_type": "code",
   "execution_count": 21,
   "id": "fcceaa10",
   "metadata": {},
   "outputs": [
    {
     "name": "stdout",
     "output_type": "stream",
     "text": [
      "Ideal quality cuts: 21488\n",
      "Premium quality cuts: 13748\n",
      "Very Good quality cuts: 12069\n",
      "Good quality cuts: 4891\n",
      "Fair quality cuts: 1598\n"
     ]
    }
   ],
   "source": [
    "position = 0\n",
    "for cut in df_cut:\n",
    "    print(\"{0} quality cuts: {1}\".format(df_cut.index[position], df_cut.values[position]))\n",
    "    position += 1"
   ]
  },
  {
   "cell_type": "code",
   "execution_count": 23,
   "id": "34969a97",
   "metadata": {},
   "outputs": [
    {
     "data": {
      "image/png": "[encoded data removed]",
      "text/plain": [
       "<Figure size 648x432 with 1 Axes>"
      ]
     },
     "metadata": {
      "needs_background": "light"
     },
     "output_type": "display_data"
    }
   ],
   "source": [
    "plt.figure(figsize = (9, 6))\n",
    "sns.barplot(data = df, x = \"cut\", y = \"price\", color = \"darkturquoise\")\n",
    "plt.title(\"Relation between Cut and Price\", size = 16)\n",
    "plt.show()"
   ]
  },
  {
   "cell_type": "code",
   "execution_count": 24,
   "id": "02903059",
   "metadata": {},
   "outputs": [
    {
     "data": {
      "text/plain": [
       "price    1.000000\n",
       "carat    0.921548\n",
       "x        0.887114\n",
       "z        0.868026\n",
       "y        0.867676\n",
       "table    0.126566\n",
       "depth   -0.011048\n",
       "dtype: float64"
      ]
     },
     "execution_count": 24,
     "metadata": {},
     "output_type": "execute_result"
    }
   ],
   "source": [
    "get_corr(\"price\")"
   ]
  },
  {
   "cell_type": "code",
   "execution_count": 25,
   "id": "42f885ee",
   "metadata": {},
   "outputs": [
    {
     "data": {
      "text/plain": [
       "cut\n",
       "Ideal        0.703472\n",
       "Premium      0.891620\n",
       "Very Good    0.806195\n",
       "Good         0.847215\n",
       "Fair         1.043736\n",
       "Name: carat, dtype: float64"
      ]
     },
     "execution_count": 25,
     "metadata": {},
     "output_type": "execute_result"
    }
   ],
   "source": [
    "df.groupby([\"cut\"])[\"carat\"].mean()"
   ]
  },
  {
   "cell_type": "code",
   "execution_count": 26,
   "id": "bddc83bc",
   "metadata": {},
   "outputs": [
    {
     "data": {
      "image/png": "[encoded data removed]",
      "text/plain": [
       "<Figure size 504x504 with 1 Axes>"
      ]
     },
     "metadata": {},
     "output_type": "display_data"
    }
   ],
   "source": [
    "df_color = df[\"color\"].value_counts()\n",
    "\n",
    "plt.figure(figsize = (7,7))\n",
    "plt.pie(data = df_color, x = df_color.values, labels = df_color.index, autopct = \"%.2f%%\", pctdistance = 0.8, startangle = 40, colors = color_palette)\n",
    "circle = plt.Circle(xy = (0, 0), radius = 0.5, facecolor = 'white')\n",
    "plt.gca().add_artist(circle)\n",
    "plt.title(\"% of each Diamond Color\", size = 16)\n",
    "plt.show()"
   ]
  },
  {
   "cell_type": "code",
   "execution_count": 27,
   "id": "8c44781e",
   "metadata": {},
   "outputs": [
    {
     "name": "stdout",
     "output_type": "stream",
     "text": [
      "G color diamonds: 11262\n",
      "E color diamonds: 9776\n",
      "F color diamonds: 9520\n",
      "H color diamonds: 8272\n",
      "D color diamonds: 6755\n",
      "I color diamonds: 5407\n",
      "J color diamonds: 2802\n"
     ]
    }
   ],
   "source": [
    "position = 0\n",
    "for color in df_color:\n",
    "    print(\"{0} color diamonds: {1}\".format(df_color.index[position], df_color.values[position]))\n",
    "    position += 1"
   ]
  },
  {
   "cell_type": "code",
   "execution_count": 29,
   "id": "e0551b5e",
   "metadata": {},
   "outputs": [
    {
     "data": {
      "image/png": "[encoded data removed]",
      "text/plain": [
       "<Figure size 648x432 with 1 Axes>"
      ]
     },
     "metadata": {
      "needs_background": "light"
     },
     "output_type": "display_data"
    }
   ],
   "source": [
    "plt.figure(figsize = (9, 6))\n",
    "sns.barplot(data = df, x = \"color\", y = \"price\", color =  \"darkturquoise\")\n",
    "plt.title(\"Relation between Diamond Color and Price\", size = 16)\n",
    "plt.show()"
   ]
  },
  {
   "cell_type": "code",
   "execution_count": 30,
   "id": "702b9be1",
   "metadata": {},
   "outputs": [
    {
     "data": {
      "text/plain": [
       "color\n",
       "D    0.658315\n",
       "E    0.657957\n",
       "F    0.736664\n",
       "G    0.771273\n",
       "H    0.911029\n",
       "I    1.025197\n",
       "J    1.162841\n",
       "Name: carat, dtype: float64"
      ]
     },
     "execution_count": 30,
     "metadata": {},
     "output_type": "execute_result"
    }
   ],
   "source": [
    "df.groupby([\"color\"])[\"carat\"].mean()"
   ]
  },
  {
   "cell_type": "code",
   "execution_count": 31,
   "id": "2eb02674",
   "metadata": {},
   "outputs": [
    {
     "data": {
      "image/png": "[encoded data removed]",
      "text/plain": [
       "<Figure size 504x504 with 1 Axes>"
      ]
     },
     "metadata": {},
     "output_type": "display_data"
    }
   ],
   "source": [
    "df_clarity = df[\"clarity\"].value_counts()\n",
    "\n",
    "plt.figure(figsize = (7,7))\n",
    "plt.pie(data = df_clarity, x = df_clarity.values, labels = df_clarity.index, autopct = \"%.2f%%\", pctdistance = 0.8, colors = clarity_palette)\n",
    "circle = plt.Circle(xy = (0, 0), radius = 0.5, facecolor = 'white')\n",
    "plt.gca().add_artist(circle)\n",
    "plt.title(\"% of each Diamond Clarity\", size = 16)\n",
    "plt.show()"
   ]
  },
  {
   "cell_type": "code",
   "execution_count": 32,
   "id": "cf3a06f2",
   "metadata": {},
   "outputs": [
    {
     "name": "stdout",
     "output_type": "stream",
     "text": [
      "SI1 clarity diamonds: 13032\n",
      "VS2 clarity diamonds: 12229\n",
      "SI2 clarity diamonds: 9150\n",
      "VS1 clarity diamonds: 8156\n",
      "VVS2 clarity diamonds: 5056\n",
      "VVS1 clarity diamonds: 3647\n",
      "IF clarity diamonds: 1784\n",
      "I1 clarity diamonds: 740\n"
     ]
    }
   ],
   "source": [
    "position = 0\n",
    "for color in df_clarity:\n",
    "    print(\"{0} clarity diamonds: {1}\".format(df_clarity.index[position], df_clarity.values[position]))\n",
    "    position += 1"
   ]
  },
  {
   "cell_type": "code",
   "execution_count": 34,
   "id": "ab54be7b",
   "metadata": {},
   "outputs": [
    {
     "data": {
      "image/png": "[encoded data removed]",
      "text/plain": [
       "<Figure size 648x432 with 1 Axes>"
      ]
     },
     "metadata": {
      "needs_background": "light"
     },
     "output_type": "display_data"
    }
   ],
   "source": [
    "plt.figure(figsize = (9, 6))\n",
    "sns.barplot(data = df, x = \"clarity\", y = \"price\", color = \"darkturquoise\")\n",
    "plt.title(\"Relation between Diamond Clarity and Price\", size = 16)\n",
    "plt.show()"
   ]
  },
  {
   "cell_type": "code",
   "execution_count": 35,
   "id": "c2a0011d",
   "metadata": {},
   "outputs": [
    {
     "data": {
      "text/plain": [
       "clarity\n",
       "IF      0.505645\n",
       "VVS1    0.503696\n",
       "VVS2    0.596527\n",
       "VS1     0.727436\n",
       "VS2     0.764276\n",
       "SI1     0.850407\n",
       "SI2     1.076402\n",
       "I1      1.283527\n",
       "Name: carat, dtype: float64"
      ]
     },
     "execution_count": 35,
     "metadata": {},
     "output_type": "execute_result"
    }
   ],
   "source": [
    "df.groupby([\"clarity\"])[\"carat\"].mean()"
   ]
  },
  {
   "cell_type": "code",
   "execution_count": 36,
   "id": "d6183ecc",
   "metadata": {},
   "outputs": [],
   "source": [
    "# Splitting the data into features and target\n",
    "X = df.drop([\"price\"], axis = 1).copy()\n",
    "y = df[\"price\"].copy()"
   ]
  },
  {
   "cell_type": "code",
   "execution_count": 39,
   "id": "636cfca4",
   "metadata": {},
   "outputs": [],
   "source": [
    "from sklearn.preprocessing import StandardScaler\n",
    "# Dummy variables\n",
    "X_dummies = X.copy()\n",
    "X_dummies = pd.get_dummies(data = X_dummies, columns = [\"clarity\", \"color\", \"cut\"], prefix = [\"clarity\", \"color\", \"cut\"], drop_first = True).copy()\n",
    "\n",
    "# Scaling the data\n",
    "ss = StandardScaler()\n",
    "X_dummies = ss.fit_transform(X_dummies)\n",
    "\n",
    "# Label encoder\n",
    "X_encoder = X.copy()\n",
    "X_encoder[\"cut\"] = X_encoder[\"cut\"].replace({\"Ideal\": 1, \"Premium\": 2, \"Very Good\": 3, \"Good\": 4, \"Fair\": 5}).copy()\n",
    "X_encoder[\"color\"] = X_encoder[\"color\"].replace({\"D\": 7, \"E\": 6, \"F\": 5, \"G\": 4, \"H\": 3, \"I\": 2, \"J\": 1}).copy()\n",
    "X_encoder[\"clarity\"] = X_encoder[\"clarity\"].replace({\"IF\" : 8, \"VVS1\" : 7, \"VVS2\" : 6, \"VS1\" : 5, \"VS2\" : 4, \"SI1\" : 3, \"SI2\" : 2, \"I1\" : 1}).copy()\n"
   ]
  },
  {
   "cell_type": "code",
   "execution_count": 44,
   "id": "09c647db",
   "metadata": {},
   "outputs": [],
   "source": [
    "from sklearn.model_selection import train_test_split\n",
    "X_train, X_test, y_train, y_test = train_test_split(X_encoder, y, test_size=0.33, random_state=42)"
   ]
  },
  {
   "cell_type": "code",
   "execution_count": 45,
   "id": "c47cbcd7",
   "metadata": {},
   "outputs": [],
   "source": [
    "from sklearn.ensemble import RandomForestRegressor"
   ]
  },
  {
   "cell_type": "code",
   "execution_count": 47,
   "id": "826a5c5c",
   "metadata": {},
   "outputs": [
    {
     "data": {
      "text/plain": [
       "RandomForestRegressor(max_depth=8, n_estimators=40, random_state=101)"
      ]
     },
     "execution_count": 47,
     "metadata": {},
     "output_type": "execute_result"
    }
   ],
   "source": [
    "rfr = RandomForestRegressor(max_depth = 8, n_estimators = 40, random_state = 101)\n",
    "rfr.fit(X_train, y_train)"
   ]
  },
  {
   "cell_type": "code",
   "execution_count": 48,
   "id": "7deba19c",
   "metadata": {},
   "outputs": [],
   "source": [
    "y_pred = rfr.predict(X_test)"
   ]
  },
  {
   "cell_type": "code",
   "execution_count": 56,
   "id": "8a68201d",
   "metadata": {},
   "outputs": [
    {
     "data": {
      "text/plain": [
       "array([1435, 3584, 1851, ..., 5979, 1069, 5396], dtype=int64)"
      ]
     },
     "execution_count": 56,
     "metadata": {},
     "output_type": "execute_result"
    }
   ],
   "source": [
    "y_test.values"
   ]
  },
  {
   "cell_type": "code",
   "execution_count": 54,
   "id": "6472b20d",
   "metadata": {},
   "outputs": [
    {
     "data": {
      "text/plain": [
       "array([1854.75, 3674.93, 1864.02, ..., 6878.05,  911.02, 5492.67])"
      ]
     },
     "execution_count": 54,
     "metadata": {},
     "output_type": "execute_result"
    }
   ],
   "source": [
    "y_pred"
   ]
  },
  {
   "cell_type": "code",
   "execution_count": 57,
   "id": "e4cccb46",
   "metadata": {},
   "outputs": [
    {
     "name": "stdout",
     "output_type": "stream",
     "text": [
      "[[1854.75 1435.  ]\n",
      " [3674.93 3584.  ]\n",
      " [1864.02 1851.  ]\n",
      " ...\n",
      " [6878.05 5979.  ]\n",
      " [ 911.02 1069.  ]\n",
      " [5492.67 5396.  ]]\n"
     ]
    }
   ],
   "source": [
    "np.set_printoptions(precision=2)\n",
    "print(np.concatenate((y_pred.reshape(len(y_pred),1), y_test.values.reshape(len(y_test),1)),1))"
   ]
  },
  {
   "cell_type": "code",
   "execution_count": 58,
   "id": "a2217a59",
   "metadata": {},
   "outputs": [
    {
     "data": {
      "text/plain": [
       "0.9760254211290984"
      ]
     },
     "execution_count": 58,
     "metadata": {},
     "output_type": "execute_result"
    }
   ],
   "source": [
    "from sklearn.metrics import r2_score\n",
    "r2_score(y_test, y_pred)"
   ]
  },
  {
   "cell_type": "code",
   "execution_count": null,
   "id": "ffd79168",
   "metadata": {},
   "outputs": [],
   "source": []
  }
 ],
 "metadata": {
  "kernelspec": {
   "display_name": "Python 3",
   "language": "python",
   "name": "python3"
  },
  "language_info": {
   "codemirror_mode": {
    "name": "ipython",
    "version": 3
   },
   "file_extension": ".py",
   "mimetype": "text/x-python",
   "name": "python",
   "nbconvert_exporter": "python",
   "pygments_lexer": "ipython3",
   "version": "3.8.8"
  }
 },
 "nbformat": 4,
 "nbformat_minor": 5
}
